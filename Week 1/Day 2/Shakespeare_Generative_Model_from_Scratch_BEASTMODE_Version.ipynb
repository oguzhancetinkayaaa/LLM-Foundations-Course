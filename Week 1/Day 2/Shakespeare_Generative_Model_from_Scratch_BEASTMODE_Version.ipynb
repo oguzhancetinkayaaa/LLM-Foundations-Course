{
  "cells": [
    {
      "cell_type": "markdown",
      "metadata": {
        "id": "UWiGVj6njoDn"
      },
      "source": [
        "# Unsupervised Pre-Training of GPT-Style Model\n",
        "\n",
        "In today's notebook, we'll be working through an example of how to do unsupervised pre-training of a GPT-style model.\n",
        "\n",
        "The base model we'll use is Andrej Karpathy's [nanoGPT](https://github.com/karpathy/nanoGPT).\n",
        "\n",
        "All of the model code can be found in the [`model.py`](https://github.com/karpathy/nanoGPT/blob/master/model.py) file!\n",
        "\n",
        "> NOTE: We will not be leveraging the parallized training strategy in this notebook - you can find all the required code in the provided repository."
      ]
    },
    {
      "cell_type": "markdown",
      "metadata": {
        "id": "eHi04aEnkKEZ"
      },
      "source": [
        "## Data Selection\n",
        "\n",
        "For the notebook today, we'll be using a toy dataset called `tinyshakespeare`. Feel free to use your own corpus here, just make sure it's contained within a single `.txt` file.\n",
        "\n",
        "You could extend this example to use the [OpenWebText](https://skylion007.github.io/OpenWebTextCorpus/) dataset, which was used to pre-train GPT-2.\n",
        "\n",
        "> NOTE: Training LLMs can take a very long time - in order to get results similar to the [GPT-2 paper](https://d4mucfpksywv.cloudfront.net/better-language-models/language_models_are_unsupervised_multitask_learners.pdf) you will need 8xA100s and train for ~4-5 days using a pararellized strategy (DDP) on the OpenWebText Corpus.\n",
        "\n",
        "Let's start by grabbing our source repository for the day!"
      ]
    },
    {
      "cell_type": "code",
      "execution_count": 1,
      "metadata": {
        "colab": {
          "base_uri": "https://localhost:8080/"
        },
        "id": "lMRsEQZy6tgc",
        "outputId": "d9b0b3af-ff3c-46d2-e194-ca9879cd9cc7"
      },
      "outputs": [
        {
          "name": "stdout",
          "output_type": "stream",
          "text": [
            "Cloning into 'nanoGPT'...\n",
            "remote: Enumerating objects: 649, done.\u001b[K\n",
            "remote: Total 649 (delta 0), reused 0 (delta 0), pack-reused 649\u001b[K\n",
            "Receiving objects: 100% (649/649), 936.45 KiB | 3.90 MiB/s, done.\n",
            "Resolving deltas: 100% (371/371), done.\n"
          ]
        }
      ],
      "source": [
        "!git clone https://github.com/karpathy/nanoGPT.git"
      ]
    },
    {
      "cell_type": "markdown",
      "metadata": {
        "id": "6l4CqoEDl7ks"
      },
      "source": [
        "Next, we'll need to grab some dependencies.\n",
        "\n",
        "`cohere` and `openai` are recent dependencies of `tiktoken`, but we will not be leveraging them today."
      ]
    },
    {
      "cell_type": "code",
      "execution_count": 2,
      "metadata": {
        "colab": {
          "base_uri": "https://localhost:8080/"
        },
        "id": "d_gepPv1Qdj_",
        "outputId": "bf396ac6-13f5-4881-d657-e519f5c7460b"
      },
      "outputs": [
        {
          "name": "stdout",
          "output_type": "stream",
          "text": [
            "\u001b[2K     \u001b[90m━━━━━━━━━━━━━━━━━━━━━━━━━━━━━━━━━━━━━━━━\u001b[0m \u001b[32m2.0/2.0 MB\u001b[0m \u001b[31m19.7 MB/s\u001b[0m eta \u001b[36m0:00:00\u001b[0m\n",
            "\u001b[2K     \u001b[90m━━━━━━━━━━━━━━━━━━━━━━━━━━━━━━━━━━━━━━━━\u001b[0m \u001b[32m51.9/51.9 kB\u001b[0m \u001b[31m5.6 MB/s\u001b[0m eta \u001b[36m0:00:00\u001b[0m\n",
            "\u001b[2K     \u001b[90m━━━━━━━━━━━━━━━━━━━━━━━━━━━━━━━━━━━━━━━━\u001b[0m \u001b[32m222.3/222.3 kB\u001b[0m \u001b[31m22.8 MB/s\u001b[0m eta \u001b[36m0:00:00\u001b[0m\n",
            "\u001b[2K     \u001b[90m━━━━━━━━━━━━━━━━━━━━━━━━━━━━━━━━━━━━━━━━\u001b[0m \u001b[32m3.1/3.1 MB\u001b[0m \u001b[31m78.1 MB/s\u001b[0m eta \u001b[36m0:00:00\u001b[0m\n",
            "\u001b[2K     \u001b[90m━━━━━━━━━━━━━━━━━━━━━━━━━━━━━━━━━━━━━━━━\u001b[0m \u001b[32m75.9/75.9 kB\u001b[0m \u001b[31m8.7 MB/s\u001b[0m eta \u001b[36m0:00:00\u001b[0m\n",
            "\u001b[2K     \u001b[90m━━━━━━━━━━━━━━━━━━━━━━━━━━━━━━━━━━━━━━━━\u001b[0m \u001b[32m76.9/76.9 kB\u001b[0m \u001b[31m9.4 MB/s\u001b[0m eta \u001b[36m0:00:00\u001b[0m\n",
            "\u001b[2K     \u001b[90m━━━━━━━━━━━━━━━━━━━━━━━━━━━━━━━━━━━━━━━━\u001b[0m \u001b[32m58.3/58.3 kB\u001b[0m \u001b[31m7.0 MB/s\u001b[0m eta \u001b[36m0:00:00\u001b[0m\n",
            "\u001b[?25h\u001b[31mERROR: pip's dependency resolver does not currently take into account all the packages that are installed. This behaviour is the source of the following dependency conflicts.\n",
            "tensorflow-probability 0.22.0 requires typing-extensions<4.6.0, but you have typing-extensions 4.9.0 which is incompatible.\u001b[0m\u001b[31m\n",
            "\u001b[0m"
          ]
        }
      ],
      "source": [
        "!pip install tiktoken requests cohere openai -qU"
      ]
    },
    {
      "cell_type": "markdown",
      "metadata": {
        "id": "70hSjXmZmCt3"
      },
      "source": [
        "First things first - let's download our dataset!\n",
        "\n",
        "We'll leverage the `requests` library to do this - and then we will split our resultant data into a `train` and `val` set."
      ]
    },
    {
      "cell_type": "code",
      "execution_count": 3,
      "metadata": {
        "id": "T7qRWArUNiZ5"
      },
      "outputs": [],
      "source": [
        "import os\n",
        "import requests\n",
        "import tiktoken\n",
        "import numpy as np\n",
        "\n",
        "current_path = \"/data/shakespeare\"\n",
        "data_url = 'https://raw.githubusercontent.com/karpathy/char-rnn/master/data/tinyshakespeare/input.txt'\n",
        "\n",
        "if not os.path.exists(current_path):\n",
        "    os.makedirs(current_path)\n",
        "\n",
        "# download the tiny shakespeare dataset\n",
        "input_file_path = os.path.join(os.path.dirname(current_path), 'input.txt')\n",
        "if not os.path.exists(input_file_path):\n",
        "\n",
        "    with open(input_file_path, 'w') as f:\n",
        "        f.write(requests.get(data_url).text)\n",
        "\n",
        "with open(input_file_path, 'r') as f:\n",
        "    data = f.read()\n",
        "\n",
        "n = len(data)\n",
        "train_data = data[:int(n*0.9)]\n",
        "val_data = data[int(n*0.9):]"
      ]
    },
    {
      "cell_type": "markdown",
      "metadata": {
        "id": "wU9BG2CymU-a"
      },
      "source": [
        "Now let's get our `tokenizers` dependency so we can train a tokenizer on our data."
      ]
    },
    {
      "cell_type": "code",
      "execution_count": 4,
      "metadata": {
        "id": "gFnrwKpQPsYh"
      },
      "outputs": [],
      "source": [
        "!pip install tokenizers -qU"
      ]
    },
    {
      "cell_type": "markdown",
      "metadata": {
        "id": "rmWXE5ctma9Z"
      },
      "source": [
        "We will be training a \"byte-pair-encoding\" or \"BPE\" tokenizer. If you'd like to read more, you can find it [here](https://en.wikipedia.org/wiki/Byte_pair_encoding).\n",
        "\n",
        "Let's work through an example of what Byte-Pair Encoding (BPE) is doing, exactly, from this wonderful example provided by [Hugging Face](https://huggingface.co/docs/transformers/main/tokenizer_summary#byte-pair-encoding-bpe).\n",
        "\n",
        "\n",
        "\n"
      ]
    },
    {
      "cell_type": "markdown",
      "metadata": {
        "id": "GLecDiHbogvX"
      },
      "source": [
        "### What is BPE?\n",
        "\n",
        "First, we need to do a step called \"pre-tokenization\", which is - as it sounds - a tokenization step that occurs before we tokenize.\n",
        "\n",
        "The essential idea of BPE is that we need to understand common words and \"byte-pairs\" in them. So, in order to find \"common words\" we first need to find...words!\n",
        "\n",
        "Let's take the following text and break it apart into its word components.\n",
        "\n",
        "\n",
        "```\n",
        "After pre-tokenization, a set of unique words has been created and the frequency with which each word occurred in the training data has been determined. Next, BPE creates a base vocabulary consisting of all symbols that occur in the set of unique words and learns merge rules to form a new symbol from two symbols of the base vocabulary. It does so until the vocabulary has attained the desired vocabulary size. Note that the desired vocabulary size is a hyperparameter to define before training the tokenizer.\n",
        "```\n",
        "\n",
        "A naive way to do this would just be by splitting on spaces...and that is indeed what technique was used in GPT-2."
      ]
    },
    {
      "cell_type": "code",
      "execution_count": 5,
      "metadata": {
        "id": "m34NDAGCpiz6"
      },
      "outputs": [],
      "source": [
        "input_text = \"\"\"\n",
        "After pre-tokenization, a set of unique words has been created and the frequency with which each word occurred in the training data has been determined. Next, BPE creates a base vocabulary consisting of all symbols that occur in the set of unique words and learns merge rules to form a new symbol from two symbols of the base vocabulary. It does so until the vocabulary has attained the desired vocabulary size. Note that the desired vocabulary size is a hyperparameter to define before training the tokenizer.\n",
        "\"\"\"\n",
        "\n",
        "naive_word_list = input_text.split()"
      ]
    },
    {
      "cell_type": "markdown",
      "metadata": {
        "id": "hR8k-2bopqjy"
      },
      "source": [
        "Now we can count our words and get their frequency."
      ]
    },
    {
      "cell_type": "code",
      "execution_count": 6,
      "metadata": {
        "colab": {
          "base_uri": "https://localhost:8080/"
        },
        "id": "B_201bSQpvqD",
        "outputId": "b28c16a3-1fc9-4268-a657-f503a8d43526"
      },
      "outputs": [
        {
          "data": {
            "text/plain": [
              "[('t h e', 8), ('a', 4), ('o f', 4), ('v o c a b u l a r y', 4), ('h a s', 3)]"
            ]
          },
          "execution_count": 6,
          "metadata": {},
          "output_type": "execute_result"
        }
      ],
      "source": [
        "from collections import defaultdict\n",
        "\n",
        "vocab_and_frequencies = defaultdict(int)\n",
        "\n",
        "for word in naive_word_list:\n",
        "  vocab_and_frequencies[\" \".join(list(word))] += 1\n",
        "\n",
        "sorted(vocab_and_frequencies.items(), key = lambda x: x[1], reverse=True)[:5]"
      ]
    },
    {
      "cell_type": "markdown",
      "metadata": {
        "id": "NckufSxxp-w5"
      },
      "source": [
        "Let's find our \"base vocabulary\", which is going to be each symbol present in our original dataset."
      ]
    },
    {
      "cell_type": "code",
      "execution_count": 7,
      "metadata": {
        "id": "BNcjzjDvvKjp"
      },
      "outputs": [],
      "source": [
        "from typing import Dict, Tuple, List, Set\n",
        "\n",
        "def find_vocabulary_size(current_vocab: Dict[str, int]) -> int:\n",
        "  vocab = set()\n",
        "\n",
        "  for word in current_vocab.keys():\n",
        "    for subword in word.split():\n",
        "      vocab.add(subword)\n",
        "\n",
        "  return len(vocab)"
      ]
    },
    {
      "cell_type": "code",
      "execution_count": 8,
      "metadata": {
        "colab": {
          "base_uri": "https://localhost:8080/"
        },
        "id": "pf3kCf-WvdBL",
        "outputId": "d3d46c67-67c0-4e1c-86eb-9a8cafbfc36d"
      },
      "outputs": [
        {
          "data": {
            "text/plain": [
              "34"
            ]
          },
          "execution_count": 8,
          "metadata": {},
          "output_type": "execute_result"
        }
      ],
      "source": [
        "find_vocabulary_size(vocab_and_frequencies)"
      ]
    },
    {
      "cell_type": "markdown",
      "metadata": {
        "id": "VoMq7GhKqf7p"
      },
      "source": [
        "As we can see, there are 36 symbols in our base vocabulary. Let's convert our data into a form where we can capture each symbol separately."
      ]
    },
    {
      "cell_type": "markdown",
      "metadata": {
        "id": "OGxrHYmftDTr"
      },
      "source": [
        "Now we can start constructing our pairs. We will look at all the pairs of symbols as they appear and take into consideration their frequency in our corpus."
      ]
    },
    {
      "cell_type": "code",
      "execution_count": 9,
      "metadata": {
        "id": "sTwvfTAErQN7"
      },
      "outputs": [],
      "source": [
        "def find_pairs_and_frequencies(current_vocab: Dict[str, int]) -> Dict[str, int]:\n",
        "  pairs = {}\n",
        "\n",
        "  for word, frequency in current_vocab.items():\n",
        "    symbols = word.split()\n",
        "\n",
        "    for i in range(len(symbols) - 1):\n",
        "      pair = (symbols[i], symbols[i + 1])\n",
        "      current_frequency = pairs.get(pair, 0)\n",
        "      pairs[pair] = current_frequency + frequency\n",
        "\n",
        "  return pairs"
      ]
    },
    {
      "cell_type": "code",
      "execution_count": 10,
      "metadata": {
        "id": "FudOaKmYv9-y"
      },
      "outputs": [],
      "source": [
        "pairs_and_frequencies = find_pairs_and_frequencies(vocab_and_frequencies)"
      ]
    },
    {
      "cell_type": "code",
      "execution_count": 11,
      "metadata": {
        "colab": {
          "base_uri": "https://localhost:8080/"
        },
        "id": "oGIJfkk7wFYw",
        "outputId": "1a7971b1-c271-4e70-97d8-6c60a7712e70"
      },
      "outputs": [
        {
          "data": {
            "text/plain": [
              "[(('t', 'h'), 11),\n",
              " (('i', 'n'), 10),\n",
              " (('r', 'e'), 8),\n",
              " (('h', 'e'), 8),\n",
              " (('a', 't'), 7)]"
            ]
          },
          "execution_count": 11,
          "metadata": {},
          "output_type": "execute_result"
        }
      ],
      "source": [
        "sorted(pairs_and_frequencies.items(), key = lambda x: x[1], reverse=True)[:5]"
      ]
    },
    {
      "cell_type": "markdown",
      "metadata": {
        "id": "OqORqdzwsZ6s"
      },
      "source": [
        "Now that we have the frequent pairs - we can merge those pairs into a single token.\n",
        "\n",
        "Let's see how this process looks in code."
      ]
    },
    {
      "cell_type": "code",
      "execution_count": 12,
      "metadata": {
        "id": "L7ohHm2kshoY"
      },
      "outputs": [],
      "source": [
        "import re\n",
        "\n",
        "def merge_vocab(most_common_pair: Tuple[str], current_vocab: Dict[str, int]) -> Dict[str, int]:\n",
        "  vocab_out = {}\n",
        "\n",
        "  pattern = re.escape(' '.join(most_common_pair))\n",
        "  replacement = ''.join(most_common_pair)\n",
        "\n",
        "  for word_in in current_vocab:\n",
        "      word_out = re.sub(pattern, replacement, word_in)\n",
        "      vocab_out[word_out] = current_vocab[word_in]\n",
        "\n",
        "  return vocab_out"
      ]
    },
    {
      "cell_type": "code",
      "execution_count": 13,
      "metadata": {
        "id": "Ab760KKuwzZ6"
      },
      "outputs": [],
      "source": [
        "new_vocab_and_frequencies = merge_vocab(\n",
        "    sorted(pairs_and_frequencies.items(), key = lambda x: x[1], reverse=True)[0][0],\n",
        "    vocab_and_frequencies\n",
        ")"
      ]
    },
    {
      "cell_type": "code",
      "execution_count": 14,
      "metadata": {
        "colab": {
          "base_uri": "https://localhost:8080/"
        },
        "id": "L0XtvLbpxbSx",
        "outputId": "a837264c-58a7-40e0-9a24-ed6ceb711c35"
      },
      "outputs": [
        {
          "data": {
            "text/plain": [
              "[('th e', 8), ('a', 4), ('o f', 4), ('v o c a b u l a r y', 4), ('h a s', 3)]"
            ]
          },
          "execution_count": 14,
          "metadata": {},
          "output_type": "execute_result"
        }
      ],
      "source": [
        "sorted(new_vocab_and_frequencies.items(), key = lambda x: x[1], reverse=True)[:5]"
      ]
    },
    {
      "cell_type": "markdown",
      "metadata": {
        "id": "9DPkBzj2u-me"
      },
      "source": [
        "After one merge, we can see that `t h` has been converted to `th`!\n",
        "\n",
        "Let's see how that impacted our vocabulary."
      ]
    },
    {
      "cell_type": "code",
      "execution_count": 15,
      "metadata": {
        "colab": {
          "base_uri": "https://localhost:8080/"
        },
        "id": "bO_xegCtxjQf",
        "outputId": "581971ec-602a-4750-acfc-11869a856a60"
      },
      "outputs": [
        {
          "data": {
            "text/plain": [
              "35"
            ]
          },
          "execution_count": 15,
          "metadata": {},
          "output_type": "execute_result"
        }
      ],
      "source": [
        "find_vocabulary_size(new_vocab_and_frequencies)"
      ]
    },
    {
      "cell_type": "markdown",
      "metadata": {
        "id": "o3M13D60xzZi"
      },
      "source": [
        "We can see that our vocabulary has increased by 1 as we've added the `th` symbol to it!\n",
        "\n",
        "In essence, BPE will continue to do this process until your desired vocabulary size (a hyper-parameter) is met!"
      ]
    },
    {
      "cell_type": "markdown",
      "metadata": {
        "id": "BePYCbHly02H"
      },
      "source": [
        "## Training Our Tokenizer\n",
        "\n",
        "Now that we have some background on how BBPE works, lets move on to training our tokenizer for our model!\n",
        "\n",
        "Let's walk through the steps we'll take:\n",
        "\n",
        "1. Initialize our `Tokenizer` with a `BPE` model. Be sure to include the `unk_token`.\n",
        "\n",
        "  - [`Tokenizer`](https://huggingface.co/docs/tokenizers/api/tokenizer#tokenizer)\n",
        "  - [`Models`](https://huggingface.co/docs/tokenizers/api/models#models)\n",
        "\n",
        "2. We'll include a normalizer, applied at the sequence level, and we'll use `NFD()` to do so. More reading on Unicode Normalization Forms [here](https://unicode.org/reports/tr15/#Normalization_Forms_Table).\n",
        "\n",
        "  - [`NFD()`](https://huggingface.co/docs/tokenizers/api/normalizers#tokenizers.normalizers.NFD)\n",
        "\n",
        "3. We'll also add our `ByteLevel()` pre-tokenizer, and our `ByteLevelDecoder()` decoder.\n",
        "\n",
        "  - [`ByteLevel()`](https://huggingface.co/docs/tokenizers/api/pre-tokenizers#tokenizers.pre_tokenizers.ByteLevel)\n",
        "  - [`ByteLevelDecoder()`](https://huggingface.co/docs/tokenizers/api/decoders#tokenizers.decoders.ByteLevel)"
      ]
    },
    {
      "cell_type": "markdown",
      "metadata": {
        "id": "nxjrRbHA02Tm"
      },
      "source": [
        "#####🚧Advanced Build Activity:\n",
        "\n",
        "Complete the following section by filling in the code blanks."
      ]
    },
    {
      "cell_type": "code",
      "execution_count": 16,
      "metadata": {
        "id": "OrztE09OPosB"
      },
      "outputs": [],
      "source": [
        "from tokenizers import Tokenizer\n",
        "from tokenizers.models import BPE\n",
        "from tokenizers.decoders import ByteLevel as ByteLevelDecoder\n",
        "from tokenizers.normalizers import NFD, Sequence\n",
        "from tokenizers.trainers import BpeTrainer\n",
        "from tokenizers.pre_tokenizers import ByteLevel\n",
        "\n",
        "tokenizer = Tokenizer(BPE(unk_token=\"<unk>\")) # Initialize the tokenizer with a BPE model\n",
        "tokenizer.normalizer = Sequence([NFD()]) # Set the normalizer\n",
        "tokenizer.pre_tokenizer = ByteLevel() # Set the pre-tokenizer\n",
        "tokenizer.decoder = ByteLevelDecoder() # Set the decoder"
      ]
    },
    {
      "cell_type": "markdown",
      "metadata": {
        "id": "dDqkNNdM1KsD"
      },
      "source": [
        "We'll want to add some special tokens to our tokenizer to ensure in has access to common token patterns.\n",
        "\n",
        "Let's use the following:\n",
        "\n",
        "- `\"<s>\"`    : bos_token - beginning of sequence token\n",
        "- `\"</s>\"`   : eos_token - end of sequence token\n",
        "- `\"<pad>\"`  : padding_token - token used to pad sequences\n",
        "- `\"<unk>\"`  : unk_token - token used to represent unknown tokens.\n",
        "- `\"<mask>\"` : mask_token - token used to mask parts of our sequence\n",
        "\n",
        "We're also going to set a target vocabulary of 50,000 tokens."
      ]
    },
    {
      "cell_type": "code",
      "execution_count": 17,
      "metadata": {
        "id": "x9iQVhN3P3RN"
      },
      "outputs": [],
      "source": [
        "trainer = BpeTrainer(\n",
        "    vocab_size=50000,\n",
        "    show_progress=True,\n",
        "    special_tokens=[\n",
        "        \"<s>\",   # beginning of sequence token\n",
        "        \"</s>\",  # end of sequence token\n",
        "        \"<pad>\", # padding token\n",
        "        \"<unk>\", # unknown token\n",
        "        \"<mask>\" # mask token\n",
        "    ]\n",
        ")"
      ]
    },
    {
      "cell_type": "markdown",
      "metadata": {
        "id": "yQ8X9vZe2Fyw"
      },
      "source": [
        "Nothing left to do but point it at our data-source and let it train!\n",
        "\n",
        "We'll use the `.train()` method to accomplish this task.\n",
        "\n",
        "> NOTE: Pay attention to the desired inputs of the `.train()` method.\n",
        "\n",
        "- [`Tokenizer.train()`](https://huggingface.co/docs/tokenizers/api/tokenizer#tokenizers.Tokenizer.train)"
      ]
    },
    {
      "cell_type": "code",
      "execution_count": 18,
      "metadata": {
        "id": "LinLHotSP7gv"
      },
      "outputs": [],
      "source": [
        "tokenizer.train(files=[input_file_path], trainer=trainer)"
      ]
    },
    {
      "cell_type": "markdown",
      "metadata": {
        "id": "V2JNYiqB2qKV"
      },
      "source": [
        "Now we can save our tokenizer - and then load it as a `GPT2Tokenizer` through the Hugging Face Library!"
      ]
    },
    {
      "cell_type": "code",
      "execution_count": 19,
      "metadata": {
        "colab": {
          "base_uri": "https://localhost:8080/"
        },
        "id": "Jk6QjDGHQy2K",
        "outputId": "84fd7119-2c54-4eb3-8b40-1e5bd4c53599"
      },
      "outputs": [
        {
          "data": {
            "text/plain": [
              "['/content/tokenizer/vocab.json', '/content/tokenizer/merges.txt']"
            ]
          },
          "execution_count": 19,
          "metadata": {},
          "output_type": "execute_result"
        }
      ],
      "source": [
        "save_path = '/content/tokenizer'\n",
        "if not os.path.exists(save_path):\n",
        "    os.makedirs(save_path)\n",
        "tokenizer.model.save(save_path)"
      ]
    },
    {
      "cell_type": "code",
      "execution_count": 20,
      "metadata": {
        "colab": {
          "base_uri": "https://localhost:8080/"
        },
        "id": "cOOlbggdRFrN",
        "outputId": "206233b8-125f-469b-bf7e-e280ccaa43b9"
      },
      "outputs": [
        {
          "name": "stdout",
          "output_type": "stream",
          "text": [
            "\u001b[?25l     \u001b[90m━━━━━━━━━━━━━━━━━━━━━━━━━━━━━━━━━━━━━━━━\u001b[0m \u001b[32m0.0/8.2 MB\u001b[0m \u001b[31m?\u001b[0m eta \u001b[36m-:--:--\u001b[0m\r\u001b[2K     \u001b[90m━━━━━━━━━━━━━━━━━━━━━━━━━━━━━━━━━━━━━━━━\u001b[0m \u001b[32m0.1/8.2 MB\u001b[0m \u001b[31m2.0 MB/s\u001b[0m eta \u001b[36m0:00:05\u001b[0m\r\u001b[2K     \u001b[91m━━━━━━━━━━━━━━\u001b[0m\u001b[90m╺\u001b[0m\u001b[90m━━━━━━━━━━━━━━━━━━━━━━━━━\u001b[0m \u001b[32m2.9/8.2 MB\u001b[0m \u001b[31m43.1 MB/s\u001b[0m eta \u001b[36m0:00:01\u001b[0m\r\u001b[2K     \u001b[91m━━━━━━━━━━━━━━━━━━━━━━━━━━━━━━━━━━━━━━━\u001b[0m\u001b[91m╸\u001b[0m \u001b[32m8.2/8.2 MB\u001b[0m \u001b[31m87.2 MB/s\u001b[0m eta \u001b[36m0:00:01\u001b[0m\r\u001b[2K     \u001b[90m━━━━━━━━━━━━━━━━━━━━━━━━━━━━━━━━━━━━━━━━\u001b[0m \u001b[32m8.2/8.2 MB\u001b[0m \u001b[31m61.1 MB/s\u001b[0m eta \u001b[36m0:00:00\u001b[0m\n",
            "\u001b[?25h"
          ]
        }
      ],
      "source": [
        "!pip install transformers -qU"
      ]
    },
    {
      "cell_type": "code",
      "execution_count": 21,
      "metadata": {
        "id": "us1vofdhQ45C"
      },
      "outputs": [],
      "source": [
        "from transformers import GPT2Tokenizer\n",
        "\n",
        "tokenizer = GPT2Tokenizer.from_pretrained(save_path, unk_token=\"[UNK]\")"
      ]
    },
    {
      "cell_type": "markdown",
      "metadata": {
        "id": "0-Bnq7lV2xWo"
      },
      "source": [
        "Let's see how it tokenizes our inputs!"
      ]
    },
    {
      "cell_type": "code",
      "execution_count": 22,
      "metadata": {
        "id": "dnYnFa3fTRLf"
      },
      "outputs": [],
      "source": [
        "input_sentence = \"Hark, my name be Romeo! I am but a beautiful summer's day!\""
      ]
    },
    {
      "cell_type": "code",
      "execution_count": 23,
      "metadata": {
        "colab": {
          "base_uri": "https://localhost:8080/"
        },
        "id": "PSHY5VufRbBj",
        "outputId": "fa27584c-e10c-4fbb-f862-e3cce67a0c71"
      },
      "outputs": [
        {
          "data": {
            "text/plain": [
              "['Hark',\n",
              " ',',\n",
              " 'Ġmy',\n",
              " 'Ġname',\n",
              " 'Ġbe',\n",
              " 'ĠRomeo',\n",
              " '!',\n",
              " 'ĠI',\n",
              " 'Ġam',\n",
              " 'Ġbut',\n",
              " 'Ġa',\n",
              " 'Ġbeautiful',\n",
              " 'Ġsummer',\n",
              " \"'s\",\n",
              " 'Ġday',\n",
              " '!']"
            ]
          },
          "execution_count": 23,
          "metadata": {},
          "output_type": "execute_result"
        }
      ],
      "source": [
        "tokenized_sentence = tokenizer.tokenize(input_sentence)\n",
        "tokenized_sentence"
      ]
    },
    {
      "cell_type": "code",
      "execution_count": 24,
      "metadata": {
        "colab": {
          "base_uri": "https://localhost:8080/"
        },
        "id": "eZrWzQQlTU41",
        "outputId": "16ccf5a5-2e38-4452-dee1-dac464328271"
      },
      "outputs": [
        {
          "data": {
            "text/plain": [
              "[12077, 9, 124, 637, 121, 826, 5, 87, 295, 219, 72, 9113, 2999, 141, 511, 5]"
            ]
          },
          "execution_count": 24,
          "metadata": {},
          "output_type": "execute_result"
        }
      ],
      "source": [
        "encoded_tokens = tokenizer.convert_tokens_to_ids(tokenized_sentence)\n",
        "encoded_tokens"
      ]
    },
    {
      "cell_type": "code",
      "execution_count": 25,
      "metadata": {
        "colab": {
          "base_uri": "https://localhost:8080/",
          "height": 35
        },
        "id": "oS6lE-NLRnzk",
        "outputId": "59184130-955b-4386-eec9-509fb31f02d3"
      },
      "outputs": [
        {
          "data": {
            "application/vnd.google.colaboratory.intrinsic+json": {
              "type": "string"
            },
            "text/plain": [
              "\"Hark, my name be Romeo! I am but a beautiful summer's day!\""
            ]
          },
          "execution_count": 25,
          "metadata": {},
          "output_type": "execute_result"
        }
      ],
      "source": [
        "decoded_tokens = tokenizer.decode(encoded_tokens, clean_up_tokenization_spaces=False)\n",
        "decoded_tokens"
      ]
    },
    {
      "cell_type": "markdown",
      "metadata": {
        "id": "ji3sF-rA21YH"
      },
      "source": [
        "## Tokenizing Dataset\n",
        "\n",
        "Now that we have trained our tokenizer - let's create a dataset we can leverage with the `nanoGPT` library.\n",
        "\n",
        "We'll simply encode our training and validation data - and then save them in binary files for later!\n",
        "\n",
        "> NOTE: Pay attention to the format you want your dataset in. We want ids, which means we want to use the [`.encode()`](https://huggingface.co/docs/tokenizers/api/tokenizer#tokenizers.Tokenizer.encode) method of our tokenizer."
      ]
    },
    {
      "cell_type": "markdown",
      "metadata": {
        "id": "hD4rrXI01ZFz"
      },
      "source": [
        "#####🚧Advanced Build Activity:\n",
        "\n",
        "Tokenize the dataset.\n",
        "\n",
        "> NOTE: The provided `assert` statements rely on the default code provied in the notebook above."
      ]
    },
    {
      "cell_type": "code",
      "execution_count": 26,
      "metadata": {
        "id": "UcopRWB01mzI"
      },
      "outputs": [],
      "source": [
        "val_ids = tokenizer.encode(val_data)"
      ]
    },
    {
      "cell_type": "code",
      "execution_count": 27,
      "metadata": {
        "colab": {
          "base_uri": "https://localhost:8080/"
        },
        "id": "calHML6JPnCU",
        "outputId": "fcbc3d9f-2981-4bf1-95eb-43d7c949aeff"
      },
      "outputs": [
        {
          "name": "stdout",
          "output_type": "stream",
          "text": [
            "train has 291,284 tokens\n",
            "val has 34,223 tokens\n"
          ]
        }
      ],
      "source": [
        "print(f\"train has {len(train_ids):,} tokens\")\n",
        "print(f\"val has {len(val_ids):,} tokens\")"
      ]
    },
    {
      "cell_type": "code",
      "execution_count": 28,
      "metadata": {
        "id": "uHlatz_A1Q2S"
      },
      "outputs": [],
      "source": [
        "assert len(train_ids) == 291284\n",
        "assert len(val_ids) == 34223"
      ]
    },
    {
      "cell_type": "code",
      "execution_count": 29,
      "metadata": {
        "id": "nKJ1KqiiPkRh"
      },
      "outputs": [],
      "source": [
        "# export to bin files\n",
        "data_path = \"/data/shakespeare/\"\n",
        "\n",
        "train_ids = np.array(train_ids, dtype=np.uint16)\n",
        "val_ids = np.array(val_ids, dtype=np.uint16)\n",
        "train_ids.tofile(os.path.join(os.path.dirname(data_path), 'train.bin'))\n",
        "val_ids.tofile(os.path.join(os.path.dirname(data_path), 'val.bin'))"
      ]
    },
    {
      "cell_type": "markdown",
      "metadata": {
        "id": "DFbbvIi7xsgr"
      },
      "source": [
        "Let's look at our first 100 training tokens to see what format they are in!"
      ]
    },
    {
      "cell_type": "code",
      "execution_count": 30,
      "metadata": {
        "colab": {
          "base_uri": "https://localhost:8080/"
        },
        "id": "m9z7ia8AxqEn",
        "outputId": "b55e0c90-ecdd-46f5-fa97-bcad23b0d118"
      },
      "outputs": [
        {
          "data": {
            "text/plain": [
              "array([  21,  388,  876,   13,   68, 6804,  373,  153, 2501,  622, 2092,\n",
              "          9,  496,  136,  433,   11,   68,   68,   16,   89,   13,   68,\n",
              "         34, 7882,    9,  433,   11,   68,   68,   21,  388,  876,   13,\n",
              "         68,   40,   73,  252,  227, 3778, 1304,  103,  781,  351,  103,\n",
              "       7504,   15,   68,   68,   16,   89,   13,   68,   33,   97, 5790,\n",
              "         11, 3778,   11,   68,   68,   21,  388,  876,   13,   68,   21,\n",
              "        388,    9,  104,  330, 3317, 1177,  145, 3563, 1766,  103,   80,\n",
              "       1006,   11,   68,   68,   16,   89,   13,   68, 7797,  330,  486,\n",
              "          9,  153,  330,  486,   11,   68,   68,   21,  388,  876,   13,\n",
              "         68], dtype=uint16)"
            ]
          },
          "execution_count": 30,
          "metadata": {},
          "output_type": "execute_result"
        }
      ],
      "source": [
        "train_ids[:100]"
      ]
    },
    {
      "cell_type": "markdown",
      "metadata": {
        "id": "aDbAZt4Lx12n"
      },
      "source": [
        "###🏗️Activity:\n",
        "\n",
        "Write Python code that will return the first 100 tokens as text.\n",
        "\n",
        "> HINT: An example of this code was used above!"
      ]
    },
    {
      "cell_type": "code",
      "execution_count": 34,
      "metadata": {
        "colab": {
          "base_uri": "https://localhost:8080/",
          "height": 35
        },
        "id": "za9OzSJDx-dQ",
        "outputId": "c4cf8e56-4ee3-40cf-e21c-61eae1c2c78c"
      },
      "outputs": [
        {
          "data": {
            "application/vnd.google.colaboratory.intrinsic+json": {
              "type": "string"
            },
            "text/plain": [
              "'First Citizen:\\nBefore we proceed any further, hear me speak.\\n\\nAll:\\nSpeak, speak.\\n\\nFirst Citizen:\\nYou'"
            ]
          },
          "execution_count": 34,
          "metadata": {},
          "output_type": "execute_result"
        }
      ],
      "source": [
        "decoded_tokens = tokenizer.decode(train_ids, clean_up_tokenization_spaces=False)\n",
        "decoded_tokens[:100]"
      ]
    },
    {
      "cell_type": "markdown",
      "metadata": {
        "id": "c0I3VrRC3XIO"
      },
      "source": [
        "## Training The Model\n",
        "\n",
        "Now that we have our tokenized dataset, let's get to training our model!\n",
        "\n",
        "We have a lot of set-up to do before we click \"`.train()`\", so let's jump right into it!\n",
        "\n",
        "First, let's literally jump into the `nanoGPT` repository we cloned earlier."
      ]
    },
    {
      "cell_type": "code",
      "execution_count": 35,
      "metadata": {
        "colab": {
          "base_uri": "https://localhost:8080/"
        },
        "id": "NUU2jaalUdqm",
        "outputId": "cd702838-14b7-42ab-c9e2-11caf8cb7bda"
      },
      "outputs": [
        {
          "name": "stdout",
          "output_type": "stream",
          "text": [
            "/content/nanoGPT\n"
          ]
        }
      ],
      "source": [
        "%cd nanoGPT"
      ]
    },
    {
      "cell_type": "markdown",
      "metadata": {
        "id": "13p1e8sa3k0V"
      },
      "source": [
        "We'll do some critical imports."
      ]
    },
    {
      "cell_type": "code",
      "execution_count": 36,
      "metadata": {
        "id": "weNR37BwUYNg"
      },
      "outputs": [],
      "source": [
        "import os\n",
        "import time\n",
        "import math\n",
        "import pickle\n",
        "from contextlib import nullcontext\n",
        "\n",
        "import numpy as np\n",
        "import torch\n",
        "\n",
        "# from the local repo\n",
        "from model import GPTConfig, GPT"
      ]
    },
    {
      "cell_type": "markdown",
      "metadata": {
        "id": "kY_vWZG-3uM-"
      },
      "source": [
        "### Hyper-Parameters\n",
        "\n",
        "We have a laundry list of hyper-parameters to set up - let's walk through them and what they mean."
      ]
    },
    {
      "cell_type": "markdown",
      "metadata": {
        "id": "OykCjVQK5EX-"
      },
      "source": [
        "#### I/O\n",
        "\n",
        "- `out_dir` - simple enough, this is the output directory where our checkpoints are saved"
      ]
    },
    {
      "cell_type": "code",
      "execution_count": 37,
      "metadata": {
        "id": "viM3qlWt5PVS"
      },
      "outputs": [],
      "source": [
        "out_dir = 'out'"
      ]
    },
    {
      "cell_type": "markdown",
      "metadata": {
        "id": "A5iwwrNL5H4C"
      },
      "source": [
        "#### Initialization\n",
        "\n",
        "Since we're training from scratch, we'll use `init_from = 'scratch'`."
      ]
    },
    {
      "cell_type": "code",
      "execution_count": 38,
      "metadata": {
        "id": "OK1z2m3C312T"
      },
      "outputs": [],
      "source": [
        "init_from = 'scratch'"
      ]
    },
    {
      "cell_type": "markdown",
      "metadata": {
        "id": "2YlolKOj4_dE"
      },
      "source": [
        "#### Eval and Logging\n",
        "\n",
        "- `eval_interval` - this is the number of steps between evaluation stages, we'll want to see this ~`250`. Our model will be incredibly prone to over-fitting, and this will let us monitor with relative frequency.\n",
        "- `log_interval` - this is how often our training progress will log. You can set this ~`10`. It's dealer's choice, really.\n",
        "- `eval_iters` - this is how *many* iterations we want to evaluate for.\n",
        "- `eval_only` - this would evaluate our model - but not train it. We'll leave this as `False` for now.\n",
        "- `always_save_checkpoint` - this will always save our most recent checkpoint, regardless of metrics. For this example, we'll set this to `True`."
      ]
    },
    {
      "cell_type": "code",
      "execution_count": 39,
      "metadata": {
        "id": "MbFN5Ltq4_mo"
      },
      "outputs": [],
      "source": [
        "eval_interval = 250\n",
        "eval_iters = 200\n",
        "log_interval = 10\n",
        "eval_only = False\n",
        "always_save_checkpoint = True"
      ]
    },
    {
      "cell_type": "markdown",
      "metadata": {
        "id": "a488zaF_4zQk"
      },
      "source": [
        "#### Dataset\n",
        "\n",
        "We can set our dataset here - we'll use the one we created earlier!"
      ]
    },
    {
      "cell_type": "code",
      "execution_count": 40,
      "metadata": {
        "id": "_QC7vWXC40Hp"
      },
      "outputs": [],
      "source": [
        "dataset = 'shakespeare'"
      ]
    },
    {
      "cell_type": "markdown",
      "metadata": {
        "id": "XP9rBgGc426Q"
      },
      "source": [
        "#### Typical Hyper-Parameters\n",
        "\n",
        "- `gradient_accumulation_steps` - we can use gradient accumulation to \"simulate\" larger batch sizes by combining multiple different optimization steps together, without needing the additional memory for large batch sizes. We don't need to worry so much about this for the toy problem - but this hyper-parameter can be configured for larger training runs. [Here](https://lightning.ai/blog/gradient-accumulation/) is some great reading on the topic.\n",
        "- `batch_size` - Typical batch_size - the larger the merrier (up to a point) we'll be using `16` to ensure we do not exceed the memory quota of our GPU.\n",
        "- `block_size` - this can be thought of as another term for the `context window` of our model. Since our model cannot take variable length inputs - we use this to set all inputs to our desired size. We'll use a value of `512` to ensure speedy training."
      ]
    },
    {
      "cell_type": "code",
      "execution_count": 41,
      "metadata": {
        "id": "EM_ybLPP43Pd"
      },
      "outputs": [],
      "source": [
        "gradient_accumulation_steps = 1\n",
        "batch_size = 16\n",
        "block_size = 512"
      ]
    },
    {
      "cell_type": "markdown",
      "metadata": {
        "id": "UZ-8bDIY45GS"
      },
      "source": [
        "#### Model Architecture\n",
        "\n",
        "- `n_layer` - this is the number of decoder layers we will use in our model. More would be considered better (up to a point) and the original GPT-2 paper uses `12`, but we will be using a truncated `6` for ease and speed of training.\n",
        "- `n_head` - this is the number of attention heads in each decoder layer!\n",
        "- `n_embd` - this is the embedding dimension of our model, this is analagous to our `model_d` from the previous notebook.\n",
        "- `dropout` - this sets our dropout value, since our model is small and going to be extremely prone to overfitting, consider setting this at a fairly aggresive level (`0.2` was used in the example training found in the notebook`).\n",
        "- `bias` - wether or not to use bias inside the LayerNorm/Linear layers.\n",
        "\n",
        "> NOTE: You need to ensure your `n_embd` is cleanly divided by your `n_head`. That is to say:\n",
        ">\n",
        "> `n_embd % n_head == 0`."
      ]
    },
    {
      "cell_type": "code",
      "execution_count": 42,
      "metadata": {
        "id": "gMyyDBxB6k4H"
      },
      "outputs": [],
      "source": [
        "n_layer = 6\n",
        "n_head = 6\n",
        "n_embd = 516\n",
        "dropout = 0.2\n",
        "bias = False"
      ]
    },
    {
      "cell_type": "markdown",
      "metadata": {
        "id": "FiTyY5Cotwig"
      },
      "source": [
        "#####❓Question:\n",
        "\n",
        "How many attention heads (total) will our final network have?\n",
        "\n",
        "### Answer: n_layer * n_head = 6*6 = 36\n"
      ]
    },
    {
      "cell_type": "markdown",
      "metadata": {
        "id": "3NWDTaAz7gwh"
      },
      "source": [
        "#### Optimizer Hyper-Parameters\n",
        "\n",
        "Basic Optimizer Hyper-Parameters:\n",
        "\n",
        "- `learning_rate` - it's our learning rate! We'll want to set this fairly high ~`1e-3` since we're training on such a small dataset.\n",
        "- `max_iters` - how many iterations do we train for. More iters means longer training times. Feel free to tinker with this value! `5000` is a great place to start.\n",
        "\n",
        "Learning Rate Decay Settings:\n",
        "\n",
        "- `decay_lr` - set decay flag\n",
        "- `weight_Decay` - how much to decay lr by\n",
        "- `lr_decay_iters` - should be set to ~max_iters.\n",
        "- `min_lr` - the minimum lr, should be ~ lr / 10\n",
        "\n",
        "Clipping and Warmup:\n",
        "\n",
        "- `grad_clip` - value to clip gradients to. useful for preventing vanishing gradients.\n",
        "- `warmup_iters` - how many iterations to warmup for. Warmup is useful to allow your training to slowly warmup. It will use a low lr for a number of steps to avoid any massive initial spikes. Since we're training a very small model - we can avoid using many wamrup steps.\n",
        "\n",
        "> NOTE: Many learnings taken from the [Chincilla paper](https://arxiv.org/pdf/2203.15556.pdf) for selecting default or appropriate values."
      ]
    },
    {
      "cell_type": "code",
      "execution_count": 43,
      "metadata": {
        "id": "qe-669jwUptI"
      },
      "outputs": [],
      "source": [
        "# adamw optimizer\n",
        "learning_rate = 1e-3\n",
        "max_iters = 5_000\n",
        "beta1 = 0.9\n",
        "beta2 = 0.99\n",
        "\n",
        "# lr decay settings\n",
        "decay_lr = True\n",
        "weight_decay = 1e-1\n",
        "lr_decay_iters = 5_000\n",
        "min_lr = 1e-4\n",
        "\n",
        "# clipping and warmup\n",
        "grad_clip = 1.0\n",
        "warmup_iters = 100"
      ]
    },
    {
      "cell_type": "markdown",
      "metadata": {
        "id": "ucldc4mz9yeT"
      },
      "source": [
        "These hyper-parameters are necessary to set given the task we're training and given the environment we're training in."
      ]
    },
    {
      "cell_type": "code",
      "execution_count": 44,
      "metadata": {
        "colab": {
          "base_uri": "https://localhost:8080/"
        },
        "id": "xHiGlMOp8Nux",
        "outputId": "5ad804fc-897d-44c2-ee97-d2d60feca3a8"
      },
      "outputs": [
        {
          "name": "stdout",
          "output_type": "stream",
          "text": [
            "tokens per iteration will be: 8,192\n"
          ]
        }
      ],
      "source": [
        "backend = 'nccl'\n",
        "device = 'cuda'\n",
        "dtype = 'bfloat16' if torch.cuda.is_available() and torch.cuda.is_bf16_supported() else 'float16'\n",
        "compile = True\n",
        "# -----------------------------------------------------------------------------\n",
        "config_keys = [k for k,v in globals().items() if not k.startswith('_') and isinstance(v, (int, float, bool, str))]\n",
        "config = {k: globals()[k] for k in config_keys}\n",
        "# -----------------------------------------------------------------------------\n",
        "master_process = True\n",
        "seed_offset = 0\n",
        "ddp_world_size = 1\n",
        "tokens_per_iter = gradient_accumulation_steps * ddp_world_size * batch_size * block_size\n",
        "print(f\"tokens per iteration will be: {tokens_per_iter:,}\")\n",
        "os.makedirs(out_dir, exist_ok=True)"
      ]
    },
    {
      "cell_type": "markdown",
      "metadata": {
        "id": "eKmdfbye-BNf"
      },
      "source": [
        "### Torch Settings\n",
        "\n",
        "We need to set a few `torch` settings, including the seed, to allow us to train correctly on our GPU.\n",
        "\n",
        "Not much is required for us to understand here - these are just necessary lines of code. Boilerplate."
      ]
    },
    {
      "cell_type": "code",
      "execution_count": 45,
      "metadata": {
        "id": "yh34QGD6VARU"
      },
      "outputs": [],
      "source": [
        "torch.manual_seed(1337 + seed_offset)\n",
        "torch.backends.cuda.matmul.allow_tf32 = True\n",
        "torch.backends.cudnn.allow_tf32 = True\n",
        "device_type = 'cuda' if 'cuda' in device else 'cpu'\n",
        "ptdtype = {'float32': torch.float32, 'bfloat16': torch.bfloat16, 'float16': torch.float16}[dtype]\n",
        "ctx = nullcontext() if device_type == 'cpu' else torch.amp.autocast(device_type=device_type, dtype=ptdtype)"
      ]
    },
    {
      "cell_type": "markdown",
      "metadata": {
        "id": "gKeNwYaZ-Zoc"
      },
      "source": [
        "### Dataloader\n",
        "\n",
        "This block will:\n",
        "\n",
        "1. Set the data path\n",
        "2. Load the dataset we tokenized earlier from the `.bin` we saved\n",
        "3. Define a `get_batch` function that will return us a random section of our data as well as a the corresponding \"label\" for that data and move it to the GPU for easy use inside our training loop."
      ]
    },
    {
      "cell_type": "code",
      "execution_count": 46,
      "metadata": {
        "id": "tOjaPyJpVEgx"
      },
      "outputs": [],
      "source": [
        "data_dir = os.path.join('/data', dataset)\n",
        "train_data = np.memmap(os.path.join(data_dir, 'train.bin'), dtype=np.uint16, mode='r')\n",
        "val_data = np.memmap(os.path.join(data_dir, 'val.bin'), dtype=np.uint16, mode='r')\n",
        "\n",
        "def get_batch(split):\n",
        "    data = train_data if split == 'train' else val_data\n",
        "    ix = torch.randint(len(data) - block_size, (batch_size,))\n",
        "    x = torch.stack([torch.from_numpy((data[i:i+block_size]).astype(np.int64)) for i in ix])\n",
        "    y = torch.stack([torch.from_numpy((data[i+1:i+1+block_size]).astype(np.int64)) for i in ix])\n",
        "    if device_type == 'cuda':\n",
        "        # pin arrays x,y, which allows us to move them to GPU asynchronously (non_blocking=True)\n",
        "        x, y = x.pin_memory().to(device, non_blocking=True), y.pin_memory().to(device, non_blocking=True)\n",
        "    else:\n",
        "        x, y = x.to(device), y.to(device)\n",
        "    return x, y"
      ]
    },
    {
      "cell_type": "markdown",
      "metadata": {
        "id": "1Z7vMU34yRbq"
      },
      "source": [
        "Let's look at what an example of our batches would look like.\n",
        "\n",
        "To remind ourselves:\n",
        "\n",
        "- `train_data` - has ~2.9 million entries\n",
        "- `block_size` - is 512\n",
        "- `batch_size` - is 16"
      ]
    },
    {
      "cell_type": "code",
      "execution_count": 47,
      "metadata": {
        "id": "9_-Y5RZ-yX2a"
      },
      "outputs": [],
      "source": [
        "ix = torch.randint(len(train_data) - block_size, (batch_size,))\n",
        "x = torch.stack([torch.from_numpy((train_data[i:i+block_size]).astype(np.int64)) for i in ix])\n",
        "y = torch.stack([torch.from_numpy((train_data[i+1:i+1+block_size]).astype(np.int64)) for i in ix])"
      ]
    },
    {
      "cell_type": "code",
      "execution_count": 48,
      "metadata": {
        "colab": {
          "base_uri": "https://localhost:8080/"
        },
        "id": "7JDxXph4yh2g",
        "outputId": "79930839-936e-4de6-d19e-67968448a4a5"
      },
      "outputs": [
        {
          "name": "stdout",
          "output_type": "stream",
          "text": [
            "Our randomly selected indices were: tensor([ 99775, 155569, 263696,  32920,  52919, 231541, 153767, 229238, 136782,\n",
            "        263618,  39008,  14208,  39429, 189430, 194466,  76798])\n"
          ]
        }
      ],
      "source": [
        "print(f\"Our randomly selected indices were: {ix}\")"
      ]
    },
    {
      "cell_type": "code",
      "execution_count": 49,
      "metadata": {
        "colab": {
          "base_uri": "https://localhost:8080/"
        },
        "id": "UAzHJH-kzK5E",
        "outputId": "d903a27b-9610-47d9-84f8-61d445521235"
      },
      "outputs": [
        {
          "name": "stdout",
          "output_type": "stream",
          "text": [
            "The first 10 elements of `x` at the first randomly selected index is:\n",
            "tensor([   68,    16,    81,  2358, 19949,   116,   172,  1280,     9,    68])\n"
          ]
        }
      ],
      "source": [
        "print(f\"The first 10 elements of `x` at the first randomly selected index is:\\n{x[0][:10]}\")"
      ]
    },
    {
      "cell_type": "code",
      "execution_count": 50,
      "metadata": {
        "colab": {
          "base_uri": "https://localhost:8080/"
        },
        "id": "bbaF6v8ezkWn",
        "outputId": "c3a7c5dc-e848-4274-8cd8-32802a3db61e"
      },
      "outputs": [
        {
          "name": "stdout",
          "output_type": "stream",
          "text": [
            "The first 10 elements of `y` at the first randomly selected index is:\n",
            "tensor([   16,    81,  2358, 19949,   116,   172,  1280,     9,    68,    16])\n"
          ]
        }
      ],
      "source": [
        "print(f\"The first 10 elements of `y` at the first randomly selected index is:\\n{y[0][:10]}\")"
      ]
    },
    {
      "cell_type": "markdown",
      "metadata": {
        "id": "zOwOEI0Pzntj"
      },
      "source": [
        "#####❓Question:\n",
        "\n",
        "Both `x` and `y` are lists of tokens - as is expected - but what relationship to you notice between `x` and `y`?\n",
        "\n",
        "> HINT: What is our auto-regressive language model trying to predict?\n",
        "### Answer: \"x\" is the input given to the model, and \"y\" is what the model needs to predict based on that input."
      ]
    },
    {
      "cell_type": "markdown",
      "metadata": {
        "id": "N62oDfdWy0XJ"
      },
      "source": [
        "So the first component selects a random index from our training data (accounting for our block size)"
      ]
    },
    {
      "cell_type": "markdown",
      "metadata": {
        "id": "EbDlW-68_atH"
      },
      "source": [
        "### Simple Initialization of Model\n",
        "\n",
        "Here we init our number of iterations as 0, and our best val loss as a very high number."
      ]
    },
    {
      "cell_type": "code",
      "execution_count": 51,
      "metadata": {
        "id": "6hsepdVBVzQU"
      },
      "outputs": [],
      "source": [
        "iter_num = 0\n",
        "best_val_loss = 1e9"
      ]
    },
    {
      "cell_type": "markdown",
      "metadata": {
        "id": "A4Uj9qBI_vXc"
      },
      "source": [
        "Obtain our vocab size from our trained tokenizer."
      ]
    },
    {
      "cell_type": "code",
      "execution_count": 52,
      "metadata": {
        "colab": {
          "base_uri": "https://localhost:8080/"
        },
        "id": "m53DcCdFV0_a",
        "outputId": "9dfaa64b-4aa6-4e45-b1b6-0dc42d96ce19"
      },
      "outputs": [
        {
          "data": {
            "text/plain": [
              "20099"
            ]
          },
          "execution_count": 52,
          "metadata": {},
          "output_type": "execute_result"
        }
      ],
      "source": [
        "meta_path = os.path.join(data_dir, 'meta.pkl')\n",
        "meta_vocab_size = tokenizer.vocab_size\n",
        "meta_vocab_size"
      ]
    },
    {
      "cell_type": "markdown",
      "metadata": {
        "id": "V7bcNelYARmD"
      },
      "source": [
        "Create our model args dict."
      ]
    },
    {
      "cell_type": "code",
      "execution_count": 53,
      "metadata": {
        "id": "JfIWEbanV7ZS"
      },
      "outputs": [],
      "source": [
        "model_args = dict(n_layer=n_layer, n_head=n_head, n_embd=n_embd, block_size=block_size,\n",
        "                  bias=bias, vocab_size=None, dropout=dropout)"
      ]
    },
    {
      "cell_type": "markdown",
      "metadata": {
        "id": "2WWcbkiCAUI2"
      },
      "source": [
        "Instantiate our model with the provided `model_args`.\n",
        "\n",
        "These are derived from the hyper-parameters we set above."
      ]
    },
    {
      "cell_type": "code",
      "execution_count": 54,
      "metadata": {
        "colab": {
          "base_uri": "https://localhost:8080/"
        },
        "id": "1Xly4iA0V-vF",
        "outputId": "3bf4db65-14c0-4b5f-aac3-2ee0df8b5011"
      },
      "outputs": [
        {
          "name": "stdout",
          "output_type": "stream",
          "text": [
            "Initializing a new model from scratch\n",
            "number of parameters: 29.55M\n"
          ]
        }
      ],
      "source": [
        "if init_from == 'scratch':\n",
        "    print(\"Initializing a new model from scratch\")\n",
        "    if meta_vocab_size is None:\n",
        "        print(\"defaulting to vocab_size of GPT-2 to 50304 (50257 rounded up for efficiency)\")\n",
        "    model_args['vocab_size'] = meta_vocab_size if meta_vocab_size is not None else 50304\n",
        "    gptconf = GPTConfig(**model_args)\n",
        "    model = GPT(gptconf)"
      ]
    },
    {
      "cell_type": "markdown",
      "metadata": {
        "id": "BpViOsxLAl6p"
      },
      "source": [
        "There we go! If you used the default values - you should have a model with 29.55M parameters!\n",
        "\n",
        "Let's set our block_size to the correct size as determined in our configuration steps."
      ]
    },
    {
      "cell_type": "code",
      "execution_count": 55,
      "metadata": {
        "id": "TrEawNxdWRhm"
      },
      "outputs": [],
      "source": [
        "if block_size < model.config.block_size:\n",
        "    model.crop_block_size(block_size)\n",
        "    model_args['block_size'] = block_size"
      ]
    },
    {
      "cell_type": "markdown",
      "metadata": {
        "id": "eRgguPLKAuZ5"
      },
      "source": [
        "Now we can look at our model in all its glory!"
      ]
    },
    {
      "cell_type": "code",
      "execution_count": 56,
      "metadata": {
        "colab": {
          "base_uri": "https://localhost:8080/"
        },
        "id": "zaE3KSTnAtJs",
        "outputId": "a8367fe7-11d9-42d9-ff91-110a19b21b94"
      },
      "outputs": [
        {
          "data": {
            "text/plain": [
              "GPT(\n",
              "  (transformer): ModuleDict(\n",
              "    (wte): Embedding(20099, 516)\n",
              "    (wpe): Embedding(512, 516)\n",
              "    (drop): Dropout(p=0.2, inplace=False)\n",
              "    (h): ModuleList(\n",
              "      (0-5): 6 x Block(\n",
              "        (ln_1): LayerNorm()\n",
              "        (attn): CausalSelfAttention(\n",
              "          (c_attn): Linear(in_features=516, out_features=1548, bias=False)\n",
              "          (c_proj): Linear(in_features=516, out_features=516, bias=False)\n",
              "          (attn_dropout): Dropout(p=0.2, inplace=False)\n",
              "          (resid_dropout): Dropout(p=0.2, inplace=False)\n",
              "        )\n",
              "        (ln_2): LayerNorm()\n",
              "        (mlp): MLP(\n",
              "          (c_fc): Linear(in_features=516, out_features=2064, bias=False)\n",
              "          (gelu): GELU(approximate='none')\n",
              "          (c_proj): Linear(in_features=2064, out_features=516, bias=False)\n",
              "          (dropout): Dropout(p=0.2, inplace=False)\n",
              "        )\n",
              "      )\n",
              "    )\n",
              "    (ln_f): LayerNorm()\n",
              "  )\n",
              "  (lm_head): Linear(in_features=516, out_features=20099, bias=False)\n",
              ")"
            ]
          },
          "execution_count": 56,
          "metadata": {},
          "output_type": "execute_result"
        }
      ],
      "source": [
        "model.to(device)"
      ]
    },
    {
      "cell_type": "markdown",
      "metadata": {
        "id": "oHVw3KF3uvIA"
      },
      "source": [
        "###🏗️Activity:\n",
        "\n",
        "Label the following components of the transformer architecture with the module names of our newly device-cast model!\n",
        "\n",
        "The first layer is provided as an example.\n",
        "\n",
        "- Layer Normalization: `ln_f`\n",
        "- Linear Projection for Output:\n",
        "- Attention Mechanism:\n",
        "- Positional Encoding:\n",
        "- Embeddings:\n",
        "- Feed Forward Network:\n",
        "\n"
      ]
    },
    {
      "cell_type": "markdown",
      "metadata": {
        "id": "LzoEY6gcBOSp"
      },
      "source": [
        "We'll set up our GradScaler - more information on this process [here](https://pytorch.org/docs/stable/amp.html#gradient-scaling)."
      ]
    },
    {
      "cell_type": "code",
      "execution_count": 57,
      "metadata": {
        "id": "BNUThRt4WT5H"
      },
      "outputs": [],
      "source": [
        "scaler = torch.cuda.amp.GradScaler(enabled=(dtype == 'float16'))"
      ]
    },
    {
      "cell_type": "markdown",
      "metadata": {
        "id": "6Zs5Hcf9BBUD"
      },
      "source": [
        "Let's set up our optimizer below. Be sure to include the correct values. You can check the `model.py` file for more information on what is expected in the `configure_optimizers` method [here](https://github.com/karpathy/nanoGPT/blob/eba36e84649f3c6d840a93092cb779a260544d08/model.py#L263C85-L263C85)."
      ]
    },
    {
      "cell_type": "code",
      "execution_count": 58,
      "metadata": {
        "colab": {
          "base_uri": "https://localhost:8080/"
        },
        "id": "YesGeUnoWViL",
        "outputId": "398a2d61-ee87-46b0-fbf2-871d7ba78cb0"
      },
      "outputs": [
        {
          "name": "stdout",
          "output_type": "stream",
          "text": [
            "num decayed parameter tensors: 26, with 29,805,708 parameters\n",
            "num non-decayed parameter tensors: 13, with 6,708 parameters\n",
            "using fused AdamW: True\n"
          ]
        }
      ],
      "source": [
        "optimizer = model.configure_optimizers(\n",
        "    weight_decay,\n",
        "    learning_rate,\n",
        "    (beta1, beta2),\n",
        "    device_type\n",
        ")\n",
        "\n",
        "checkpoint = None"
      ]
    },
    {
      "cell_type": "markdown",
      "metadata": {
        "id": "ZF5YWJoKB4og"
      },
      "source": [
        "Now we can compile our model!\n",
        "\n",
        "If you're using the T4 or V100 instance of Colab - this will not provide a signficant speed-up, but if you're using Ampere architecture (A100) you should notice a significant difference between the compiled and uncompiled model.\n",
        "\n",
        "Read more about `torch.compile()` [here](https://pytorch.org/tutorials/intermediate/torch_compile_tutorial.html)."
      ]
    },
    {
      "cell_type": "code",
      "execution_count": 59,
      "metadata": {
        "colab": {
          "base_uri": "https://localhost:8080/"
        },
        "id": "v0FNU0T0WXdI",
        "outputId": "e8fbe581-30b7-42d5-e770-41eb5f5d904a"
      },
      "outputs": [
        {
          "name": "stdout",
          "output_type": "stream",
          "text": [
            "compiling the model... (takes a ~minute)\n"
          ]
        }
      ],
      "source": [
        "if compile:\n",
        "    print(\"compiling the model... (takes a ~minute)\")\n",
        "    unoptimized_model = model\n",
        "    model = torch.compile(model) # requires PyTorch 2.0"
      ]
    },
    {
      "cell_type": "markdown",
      "metadata": {
        "id": "p6lRcVsZCXRO"
      },
      "source": [
        "We'll set up our loss estimation function here, which will help us estimate an arbitrarily accurate loss over either training or validation data by using many batches.\n",
        "\n",
        "You'll notice that we quickly convert the model into `.eval()` model and then back to `.train()` mode."
      ]
    },
    {
      "cell_type": "code",
      "execution_count": 60,
      "metadata": {
        "id": "lUB5zVLVWbhM"
      },
      "outputs": [],
      "source": [
        "@torch.no_grad()\n",
        "def estimate_loss():\n",
        "    out = {}\n",
        "    model.eval()\n",
        "    for split in ['train', 'val']:\n",
        "        losses = torch.zeros(eval_iters)\n",
        "        for k in range(eval_iters):\n",
        "            X, Y = get_batch(split)\n",
        "            with ctx:\n",
        "                logits, loss = model(X, Y)\n",
        "            losses[k] = loss.item()\n",
        "        out[split] = losses.mean()\n",
        "    model.train()\n",
        "    return out"
      ]
    },
    {
      "cell_type": "markdown",
      "metadata": {
        "id": "fLsOpaACDDkF"
      },
      "source": [
        "### Creating our LR Scheduler\n",
        "\n",
        "Beyond just slowly reducing our learning rate over time - we can use an LR Scheduler to allow us to move our learning according to a desired pattern.\n",
        "\n",
        "We will use a \"cosine with warmup\" schedule and our learning rate, thusly, will follow this pattern:\n",
        "\n",
        "![img](https://i.imgur.com/KoFEl0b.png)\n",
        "\n",
        "There are many different schedulers, and many different ways to handle learning rate, and you can read about just a few of them [here](https://d2l.ai/chapter_optimization/lr-scheduler.html)!"
      ]
    },
    {
      "cell_type": "code",
      "execution_count": 61,
      "metadata": {
        "id": "7-mNpWBSWdHh"
      },
      "outputs": [],
      "source": [
        "def get_lr(it):\n",
        "    # 1) linear warmup for warmup_iters steps\n",
        "    if it < warmup_iters:\n",
        "        return learning_rate * it / warmup_iters\n",
        "    # 2) if it > lr_decay_iters, return min learning rate\n",
        "    if it > lr_decay_iters:\n",
        "        return min_lr\n",
        "    # 3) in between, use cosine decay down to min learning rate\n",
        "    decay_ratio = (it - warmup_iters) / (lr_decay_iters - warmup_iters)\n",
        "    assert 0 <= decay_ratio <= 1\n",
        "    coeff = 0.5 * (1.0 + math.cos(math.pi * decay_ratio)) # coeff ranges 0..1\n",
        "    return min_lr + coeff * (learning_rate - min_lr)"
      ]
    },
    {
      "cell_type": "markdown",
      "metadata": {
        "id": "UV0qN0fDwdOF"
      },
      "source": [
        "###❓Question:\n",
        "\n",
        "What advantages does a learning-rate scheduler have over a static learning rate?\n",
        "\n",
        "Feel free to consult and cite any resources you find!\n",
        "### Answer: Using a learning rate scheduler is beneficial because it adjusts the learning rate over time for better performance. Initially, it uses a higher learning rate to speed up learning, then gradually reduces it to make fine adjustments and avoid overshooting the best solution. This approach helps the model learn faster and more effectively, prevents it from getting stuck in less optimal solutions, and is more efficient in using computational resources."
      ]
    },
    {
      "cell_type": "markdown",
      "metadata": {
        "id": "cqFePCZmE1Lq"
      },
      "source": [
        "We need to set some specific values in our env to allow training in Colab."
      ]
    },
    {
      "cell_type": "code",
      "execution_count": 62,
      "metadata": {
        "colab": {
          "base_uri": "https://localhost:8080/"
        },
        "id": "-7nDL6s4YT6E",
        "outputId": "9e3343f9-027c-4cf3-e1e0-1c0b78e39fae"
      },
      "outputs": [
        {
          "name": "stdout",
          "output_type": "stream",
          "text": [
            "/sbin/ldconfig.real: /usr/local/lib/libtbbbind_2_5.so.3 is not a symbolic link\n",
            "\n",
            "/sbin/ldconfig.real: /usr/local/lib/libtbbbind.so.3 is not a symbolic link\n",
            "\n",
            "/sbin/ldconfig.real: /usr/local/lib/libtbb.so.12 is not a symbolic link\n",
            "\n",
            "/sbin/ldconfig.real: /usr/local/lib/libtbbbind_2_0.so.3 is not a symbolic link\n",
            "\n",
            "/sbin/ldconfig.real: /usr/local/lib/libtbbmalloc_proxy.so.2 is not a symbolic link\n",
            "\n",
            "/sbin/ldconfig.real: /usr/local/lib/libtbbmalloc.so.2 is not a symbolic link\n",
            "\n"
          ]
        }
      ],
      "source": [
        "!export LC_ALL=\"en_US.UTF-8\"\n",
        "!export LD_LIBRARY_PATH=\"/usr/lib64-nvidia\"\n",
        "!export LIBRARY_PATH=\"/usr/local/cuda/lib64/stubs\"\n",
        "!ldconfig /usr/lib64-nvidia"
      ]
    },
    {
      "cell_type": "markdown",
      "metadata": {
        "id": "Nhqmxeo0Eg0Z"
      },
      "source": [
        "## The Training Loop\n",
        "\n",
        "Now we can finally grab our first batch and set our initial time to calculate how long our iterations are taking!"
      ]
    },
    {
      "cell_type": "markdown",
      "metadata": {
        "id": "ZxfgkMaY2dRa"
      },
      "source": [
        "#####🚧Advanced Build Activity:\n",
        "\n",
        "Fill in the code outlined by the comments below.\n",
        "\n",
        "Feel free to reference the provided repo for guidance!"
      ]
    },
    {
      "cell_type": "code",
      "execution_count": 63,
      "metadata": {
        "colab": {
          "base_uri": "https://localhost:8080/"
        },
        "id": "kHbyEapRWmpc",
        "outputId": "42393ea0-028c-4174-881b-ebcaa0586381"
      },
      "outputs": [
        {
          "name": "stdout",
          "output_type": "stream",
          "text": [
            "step 0: train loss 9.9354, val loss 9.9274\n",
            "iter 0: loss 9.9335, time 56625.69ms, mfu -100.00%\n",
            "iter 10: loss 8.3524, time 29.37ms, mfu 17.55%\n",
            "iter 20: loss 7.3767, time 29.40ms, mfu 17.55%\n",
            "iter 30: loss 6.4390, time 29.52ms, mfu 17.54%\n",
            "iter 40: loss 5.7992, time 29.37ms, mfu 17.54%\n",
            "iter 50: loss 5.7240, time 29.48ms, mfu 17.54%\n",
            "iter 60: loss 5.4850, time 29.35ms, mfu 17.54%\n",
            "iter 70: loss 5.2169, time 29.37ms, mfu 17.54%\n",
            "iter 80: loss 5.0827, time 29.31ms, mfu 17.54%\n",
            "iter 90: loss 4.9767, time 29.43ms, mfu 17.54%\n",
            "iter 100: loss 4.6049, time 29.36ms, mfu 17.54%\n",
            "iter 110: loss 4.6051, time 29.31ms, mfu 17.55%\n",
            "iter 120: loss 4.5330, time 29.36ms, mfu 17.55%\n",
            "iter 130: loss 4.5238, time 29.41ms, mfu 17.55%\n",
            "iter 140: loss 4.4380, time 29.44ms, mfu 17.54%\n",
            "iter 150: loss 4.4557, time 29.39ms, mfu 17.54%\n",
            "iter 160: loss 4.4235, time 29.37ms, mfu 17.54%\n",
            "iter 170: loss 4.2940, time 34.71ms, mfu 17.27%\n",
            "iter 180: loss 4.4120, time 29.33ms, mfu 17.30%\n",
            "iter 190: loss 4.2502, time 29.43ms, mfu 17.32%\n",
            "iter 200: loss 4.2161, time 29.39ms, mfu 17.35%\n",
            "iter 210: loss 4.2491, time 29.49ms, mfu 17.36%\n",
            "iter 220: loss 4.2343, time 29.40ms, mfu 17.38%\n",
            "iter 230: loss 4.1972, time 29.39ms, mfu 17.39%\n",
            "iter 240: loss 4.0900, time 29.42ms, mfu 17.41%\n",
            "step 250: train loss 3.9694, val loss 4.9661\n",
            "saving checkpoint to out\n",
            "iter 250: loss 4.0231, time 3901.79ms, mfu 15.68%\n",
            "iter 260: loss 4.0536, time 29.51ms, mfu 15.86%\n",
            "iter 270: loss 3.8726, time 29.29ms, mfu 16.03%\n",
            "iter 280: loss 4.0083, time 29.25ms, mfu 16.19%\n",
            "iter 290: loss 3.8706, time 29.35ms, mfu 16.33%\n",
            "iter 300: loss 3.8930, time 29.35ms, mfu 16.45%\n",
            "iter 310: loss 3.9833, time 29.38ms, mfu 16.56%\n",
            "iter 320: loss 3.8017, time 29.48ms, mfu 16.65%\n",
            "iter 330: loss 3.8009, time 29.26ms, mfu 16.75%\n",
            "iter 340: loss 3.8787, time 29.30ms, mfu 16.83%\n",
            "iter 350: loss 3.7231, time 29.32ms, mfu 16.91%\n",
            "iter 360: loss 3.6113, time 29.37ms, mfu 16.97%\n",
            "iter 370: loss 3.7371, time 29.36ms, mfu 17.03%\n",
            "iter 380: loss 3.6837, time 29.38ms, mfu 17.08%\n",
            "iter 390: loss 3.6728, time 29.32ms, mfu 17.13%\n",
            "iter 400: loss 3.4809, time 29.41ms, mfu 17.17%\n",
            "iter 410: loss 3.6745, time 30.10ms, mfu 17.17%\n",
            "iter 420: loss 3.5292, time 29.42ms, mfu 17.20%\n",
            "iter 430: loss 3.6158, time 29.33ms, mfu 17.24%\n",
            "iter 440: loss 3.5253, time 29.44ms, mfu 17.27%\n",
            "iter 450: loss 3.5421, time 28.74ms, mfu 17.33%\n",
            "iter 460: loss 3.4910, time 29.53ms, mfu 17.35%\n",
            "iter 470: loss 3.5445, time 29.30ms, mfu 17.37%\n",
            "iter 480: loss 3.3420, time 29.52ms, mfu 17.38%\n",
            "iter 490: loss 3.4745, time 29.34ms, mfu 17.40%\n",
            "step 500: train loss 3.3451, val loss 5.1537\n",
            "saving checkpoint to out\n",
            "iter 500: loss 3.3762, time 4201.51ms, mfu 15.67%\n",
            "iter 510: loss 3.5374, time 29.57ms, mfu 15.85%\n",
            "iter 520: loss 3.4311, time 29.17ms, mfu 16.03%\n",
            "iter 530: loss 3.3009, time 29.38ms, mfu 16.18%\n",
            "iter 540: loss 3.4600, time 29.39ms, mfu 16.32%\n",
            "iter 550: loss 3.2921, time 29.32ms, mfu 16.44%\n",
            "iter 560: loss 3.1917, time 29.84ms, mfu 16.53%\n",
            "iter 570: loss 3.1047, time 29.47ms, mfu 16.62%\n",
            "iter 580: loss 3.2290, time 29.33ms, mfu 16.72%\n",
            "iter 590: loss 3.1703, time 29.41ms, mfu 16.80%\n",
            "iter 600: loss 3.2028, time 29.35ms, mfu 16.87%\n",
            "iter 610: loss 3.1472, time 29.46ms, mfu 16.94%\n",
            "iter 620: loss 3.1114, time 29.39ms, mfu 17.00%\n",
            "iter 630: loss 3.2100, time 29.23ms, mfu 17.06%\n",
            "iter 640: loss 3.1887, time 29.39ms, mfu 17.11%\n",
            "iter 650: loss 3.0971, time 29.35ms, mfu 17.15%\n",
            "iter 660: loss 3.1216, time 29.37ms, mfu 17.19%\n",
            "iter 670: loss 3.1055, time 29.35ms, mfu 17.23%\n",
            "iter 680: loss 2.9758, time 29.15ms, mfu 17.28%\n",
            "iter 690: loss 3.0319, time 29.36ms, mfu 17.30%\n",
            "iter 700: loss 2.9131, time 29.31ms, mfu 17.33%\n",
            "iter 710: loss 2.9999, time 29.35ms, mfu 17.35%\n",
            "iter 720: loss 2.7752, time 29.27ms, mfu 17.38%\n",
            "iter 730: loss 2.9395, time 29.31ms, mfu 17.40%\n",
            "iter 740: loss 2.8817, time 29.14ms, mfu 17.43%\n",
            "step 750: train loss 2.6667, val loss 5.4677\n",
            "saving checkpoint to out\n",
            "iter 750: loss 2.8149, time 4202.18ms, mfu 15.70%\n",
            "iter 760: loss 2.8431, time 29.40ms, mfu 15.88%\n",
            "iter 770: loss 2.7271, time 29.49ms, mfu 16.04%\n",
            "iter 780: loss 2.7625, time 29.34ms, mfu 16.19%\n",
            "iter 790: loss 2.6574, time 29.71ms, mfu 16.31%\n",
            "iter 800: loss 2.9438, time 29.36ms, mfu 16.43%\n",
            "iter 810: loss 2.7712, time 29.30ms, mfu 16.55%\n",
            "iter 820: loss 2.7366, time 29.44ms, mfu 16.65%\n",
            "iter 830: loss 2.6173, time 29.29ms, mfu 16.74%\n",
            "iter 840: loss 2.6912, time 28.64ms, mfu 16.87%\n",
            "iter 850: loss 2.8722, time 29.45ms, mfu 16.93%\n",
            "iter 860: loss 2.6375, time 29.33ms, mfu 16.99%\n",
            "iter 870: loss 2.5048, time 29.43ms, mfu 17.05%\n",
            "iter 880: loss 2.5400, time 29.54ms, mfu 17.09%\n",
            "iter 890: loss 2.5183, time 29.35ms, mfu 17.13%\n",
            "iter 900: loss 2.4068, time 29.36ms, mfu 17.18%\n",
            "iter 910: loss 2.5220, time 29.40ms, mfu 17.21%\n",
            "iter 920: loss 2.4517, time 30.63ms, mfu 17.17%\n",
            "iter 930: loss 2.3438, time 29.35ms, mfu 17.21%\n",
            "iter 940: loss 2.4949, time 29.30ms, mfu 17.25%\n",
            "iter 950: loss 2.4043, time 29.37ms, mfu 17.28%\n",
            "iter 960: loss 2.1210, time 29.32ms, mfu 17.31%\n",
            "iter 970: loss 2.2131, time 29.23ms, mfu 17.34%\n",
            "iter 980: loss 2.2637, time 29.34ms, mfu 17.36%\n",
            "iter 990: loss 2.1363, time 29.51ms, mfu 17.37%\n",
            "step 1000: train loss 1.9272, val loss 5.9150\n",
            "saving checkpoint to out\n",
            "iter 1000: loss 2.4326, time 4239.83ms, mfu 15.65%\n",
            "iter 1010: loss 2.2068, time 29.63ms, mfu 15.82%\n",
            "iter 1020: loss 2.2885, time 29.34ms, mfu 16.00%\n",
            "iter 1030: loss 2.3315, time 29.74ms, mfu 16.13%\n",
            "iter 1040: loss 1.9744, time 30.27ms, mfu 16.22%\n",
            "iter 1050: loss 1.9676, time 29.17ms, mfu 16.37%\n",
            "iter 1060: loss 2.0820, time 29.70ms, mfu 16.47%\n",
            "iter 1070: loss 1.9437, time 29.41ms, mfu 16.57%\n",
            "iter 1080: loss 2.1469, time 29.20ms, mfu 16.68%\n",
            "iter 1090: loss 1.7916, time 29.57ms, mfu 16.76%\n",
            "iter 1100: loss 1.9958, time 29.29ms, mfu 16.84%\n",
            "iter 1110: loss 1.9731, time 29.36ms, mfu 16.91%\n",
            "iter 1120: loss 1.9365, time 29.32ms, mfu 16.98%\n",
            "iter 1130: loss 1.8303, time 29.34ms, mfu 17.04%\n",
            "iter 1140: loss 1.8362, time 29.38ms, mfu 17.09%\n",
            "iter 1150: loss 1.8907, time 29.29ms, mfu 17.14%\n",
            "iter 1160: loss 1.9685, time 29.58ms, mfu 17.17%\n",
            "iter 1170: loss 1.9129, time 29.33ms, mfu 17.21%\n",
            "iter 1180: loss 1.7181, time 29.33ms, mfu 17.24%\n",
            "iter 1190: loss 1.8849, time 29.39ms, mfu 17.27%\n",
            "iter 1200: loss 1.8523, time 29.43ms, mfu 17.30%\n",
            "iter 1210: loss 1.9133, time 29.44ms, mfu 17.32%\n",
            "iter 1220: loss 1.7797, time 29.42ms, mfu 17.34%\n",
            "iter 1230: loss 1.7753, time 29.37ms, mfu 17.36%\n",
            "iter 1240: loss 1.6847, time 29.36ms, mfu 17.38%\n",
            "step 1250: train loss 1.3034, val loss 6.3494\n",
            "saving checkpoint to out\n",
            "iter 1250: loss 1.6686, time 4215.29ms, mfu 15.65%\n",
            "iter 1260: loss 1.6352, time 29.39ms, mfu 15.84%\n",
            "iter 1270: loss 1.7831, time 29.42ms, mfu 16.01%\n",
            "iter 1280: loss 1.5746, time 29.42ms, mfu 16.16%\n",
            "iter 1290: loss 1.5961, time 29.32ms, mfu 16.30%\n",
            "iter 1300: loss 1.6445, time 29.37ms, mfu 16.43%\n",
            "iter 1310: loss 1.6679, time 29.58ms, mfu 16.53%\n",
            "iter 1320: loss 1.5225, time 29.25ms, mfu 16.64%\n",
            "iter 1330: loss 1.5227, time 29.34ms, mfu 16.73%\n",
            "iter 1340: loss 1.4557, time 29.08ms, mfu 16.83%\n",
            "iter 1350: loss 1.5979, time 29.28ms, mfu 16.91%\n",
            "iter 1360: loss 1.6332, time 29.35ms, mfu 16.97%\n",
            "iter 1370: loss 1.4841, time 29.41ms, mfu 17.03%\n",
            "iter 1380: loss 1.5919, time 29.34ms, mfu 17.08%\n",
            "iter 1390: loss 1.5145, time 29.46ms, mfu 17.12%\n",
            "iter 1400: loss 1.4609, time 29.65ms, mfu 17.15%\n",
            "iter 1410: loss 1.4281, time 29.11ms, mfu 17.21%\n",
            "iter 1420: loss 1.4995, time 29.36ms, mfu 17.24%\n",
            "iter 1430: loss 1.4644, time 29.59ms, mfu 17.26%\n",
            "iter 1440: loss 1.4093, time 29.48ms, mfu 17.28%\n",
            "iter 1450: loss 1.5560, time 29.29ms, mfu 17.31%\n",
            "iter 1460: loss 1.3180, time 29.42ms, mfu 17.33%\n",
            "iter 1470: loss 1.4251, time 29.40ms, mfu 17.35%\n",
            "iter 1480: loss 1.3553, time 29.04ms, mfu 17.39%\n",
            "iter 1490: loss 1.4522, time 29.25ms, mfu 17.42%\n",
            "step 1500: train loss 0.9147, val loss 6.8886\n",
            "saving checkpoint to out\n",
            "iter 1500: loss 1.3829, time 4200.06ms, mfu 15.69%\n",
            "iter 1510: loss 1.3426, time 29.47ms, mfu 15.87%\n",
            "iter 1520: loss 1.4004, time 29.31ms, mfu 16.04%\n",
            "iter 1530: loss 1.2206, time 29.35ms, mfu 16.19%\n",
            "iter 1540: loss 1.2837, time 29.46ms, mfu 16.32%\n",
            "iter 1550: loss 1.2333, time 29.39ms, mfu 16.44%\n",
            "iter 1560: loss 1.2386, time 29.32ms, mfu 16.56%\n",
            "iter 1570: loss 1.2365, time 29.37ms, mfu 16.66%\n",
            "iter 1580: loss 1.2281, time 29.46ms, mfu 16.74%\n",
            "iter 1590: loss 1.2388, time 29.22ms, mfu 16.83%\n",
            "iter 1600: loss 1.2636, time 29.48ms, mfu 16.90%\n",
            "iter 1610: loss 1.2567, time 29.37ms, mfu 16.96%\n",
            "iter 1620: loss 1.2594, time 29.31ms, mfu 17.02%\n",
            "iter 1630: loss 1.2091, time 29.42ms, mfu 17.07%\n",
            "iter 1640: loss 1.1481, time 29.40ms, mfu 17.12%\n",
            "iter 1650: loss 1.1842, time 29.33ms, mfu 17.17%\n",
            "iter 1660: loss 1.1648, time 29.28ms, mfu 17.21%\n",
            "iter 1670: loss 1.1290, time 29.52ms, mfu 17.23%\n",
            "iter 1680: loss 1.1695, time 29.37ms, mfu 17.27%\n",
            "iter 1690: loss 1.2620, time 29.27ms, mfu 17.30%\n",
            "iter 1700: loss 1.1599, time 29.52ms, mfu 17.32%\n",
            "iter 1710: loss 1.0171, time 29.38ms, mfu 17.34%\n",
            "iter 1720: loss 1.0793, time 29.34ms, mfu 17.36%\n",
            "iter 1730: loss 1.1089, time 29.26ms, mfu 17.39%\n",
            "iter 1740: loss 1.0598, time 29.31ms, mfu 17.41%\n",
            "step 1750: train loss 0.6727, val loss 7.2099\n",
            "saving checkpoint to out\n",
            "iter 1750: loss 1.0467, time 4193.91ms, mfu 15.68%\n",
            "iter 1760: loss 1.0563, time 29.41ms, mfu 15.86%\n",
            "iter 1770: loss 1.0839, time 29.21ms, mfu 16.04%\n",
            "iter 1780: loss 1.0303, time 29.44ms, mfu 16.19%\n",
            "iter 1790: loss 1.1358, time 29.56ms, mfu 16.31%\n",
            "iter 1800: loss 1.1067, time 29.44ms, mfu 16.43%\n",
            "iter 1810: loss 0.9907, time 29.22ms, mfu 16.55%\n",
            "iter 1820: loss 1.1031, time 29.35ms, mfu 16.65%\n",
            "iter 1830: loss 1.0262, time 29.48ms, mfu 16.74%\n",
            "iter 1840: loss 1.0287, time 29.31ms, mfu 16.82%\n",
            "iter 1850: loss 1.0124, time 29.59ms, mfu 16.88%\n",
            "iter 1860: loss 1.0300, time 29.49ms, mfu 16.94%\n",
            "iter 1870: loss 0.9254, time 29.46ms, mfu 17.00%\n",
            "iter 1880: loss 0.9687, time 29.23ms, mfu 17.06%\n",
            "iter 1890: loss 0.9976, time 29.29ms, mfu 17.11%\n",
            "iter 1900: loss 0.9801, time 29.42ms, mfu 17.15%\n",
            "iter 1910: loss 0.9276, time 29.47ms, mfu 17.19%\n",
            "iter 1920: loss 0.9933, time 29.17ms, mfu 17.24%\n",
            "iter 1930: loss 0.9523, time 29.29ms, mfu 17.27%\n",
            "iter 1940: loss 1.0113, time 29.27ms, mfu 17.31%\n",
            "iter 1950: loss 0.9316, time 29.21ms, mfu 17.34%\n",
            "iter 1960: loss 0.9368, time 29.36ms, mfu 17.36%\n",
            "iter 1970: loss 0.9152, time 29.49ms, mfu 17.37%\n",
            "iter 1980: loss 0.9260, time 29.35ms, mfu 17.39%\n",
            "iter 1990: loss 0.9061, time 29.36ms, mfu 17.41%\n",
            "step 2000: train loss 0.5108, val loss 7.5532\n",
            "saving checkpoint to out\n",
            "iter 2000: loss 0.8860, time 4191.45ms, mfu 15.68%\n",
            "iter 2010: loss 0.9059, time 29.40ms, mfu 15.86%\n",
            "iter 2020: loss 0.9085, time 29.36ms, mfu 16.03%\n",
            "iter 2030: loss 0.8323, time 29.46ms, mfu 16.18%\n",
            "iter 2040: loss 0.8270, time 29.35ms, mfu 16.32%\n",
            "iter 2050: loss 0.8400, time 29.36ms, mfu 16.44%\n",
            "iter 2060: loss 0.8709, time 29.26ms, mfu 16.56%\n",
            "iter 2070: loss 0.7832, time 29.38ms, mfu 16.66%\n",
            "iter 2080: loss 0.8391, time 29.80ms, mfu 16.72%\n",
            "iter 2090: loss 0.8097, time 29.37ms, mfu 16.80%\n",
            "iter 2100: loss 0.8570, time 29.35ms, mfu 16.88%\n",
            "iter 2110: loss 0.8504, time 29.40ms, mfu 16.95%\n",
            "iter 2120: loss 0.8840, time 29.46ms, mfu 17.00%\n",
            "iter 2130: loss 0.8528, time 29.97ms, mfu 17.02%\n",
            "iter 2140: loss 0.8761, time 29.46ms, mfu 17.07%\n",
            "iter 2150: loss 0.7720, time 29.53ms, mfu 17.11%\n",
            "iter 2160: loss 0.7922, time 29.41ms, mfu 17.15%\n",
            "iter 2170: loss 0.8753, time 29.38ms, mfu 17.19%\n",
            "iter 2180: loss 0.8417, time 29.48ms, mfu 17.22%\n",
            "iter 2190: loss 0.8104, time 29.47ms, mfu 17.25%\n",
            "iter 2200: loss 0.7680, time 28.99ms, mfu 17.30%\n",
            "iter 2210: loss 0.7561, time 29.33ms, mfu 17.33%\n",
            "iter 2220: loss 0.8003, time 29.30ms, mfu 17.35%\n",
            "iter 2230: loss 0.7395, time 29.57ms, mfu 17.36%\n",
            "iter 2240: loss 0.7647, time 29.22ms, mfu 17.39%\n",
            "step 2250: train loss 0.3987, val loss 7.7860\n",
            "saving checkpoint to out\n",
            "iter 2250: loss 0.7398, time 4251.81ms, mfu 15.66%\n",
            "iter 2260: loss 0.7727, time 29.30ms, mfu 15.85%\n",
            "iter 2270: loss 0.6929, time 29.43ms, mfu 16.02%\n",
            "iter 2280: loss 0.6862, time 29.38ms, mfu 16.17%\n",
            "iter 2290: loss 0.7070, time 29.38ms, mfu 16.31%\n",
            "iter 2300: loss 0.7777, time 29.55ms, mfu 16.42%\n",
            "iter 2310: loss 0.6945, time 29.48ms, mfu 16.53%\n",
            "iter 2320: loss 0.6998, time 29.25ms, mfu 16.64%\n",
            "iter 2330: loss 0.7239, time 29.30ms, mfu 16.73%\n",
            "iter 2340: loss 0.7346, time 29.08ms, mfu 16.83%\n",
            "iter 2350: loss 0.7132, time 29.31ms, mfu 16.91%\n",
            "iter 2360: loss 0.7173, time 29.32ms, mfu 16.98%\n",
            "iter 2370: loss 0.7062, time 29.64ms, mfu 17.02%\n",
            "iter 2380: loss 0.7059, time 29.48ms, mfu 17.06%\n",
            "iter 2390: loss 0.7276, time 29.49ms, mfu 17.11%\n",
            "iter 2400: loss 0.6660, time 29.24ms, mfu 17.16%\n",
            "iter 2410: loss 0.7977, time 29.43ms, mfu 17.19%\n",
            "iter 2420: loss 0.6734, time 29.31ms, mfu 17.23%\n",
            "iter 2430: loss 0.6481, time 29.39ms, mfu 17.26%\n",
            "iter 2440: loss 0.6921, time 29.52ms, mfu 17.28%\n",
            "iter 2450: loss 0.6581, time 29.69ms, mfu 17.29%\n",
            "iter 2460: loss 0.5813, time 28.97ms, mfu 17.34%\n",
            "iter 2470: loss 0.6484, time 29.20ms, mfu 17.37%\n",
            "iter 2480: loss 0.6586, time 29.37ms, mfu 17.39%\n",
            "iter 2490: loss 0.6395, time 29.44ms, mfu 17.40%\n",
            "step 2500: train loss 0.3040, val loss 8.0972\n",
            "saving checkpoint to out\n",
            "iter 2500: loss 0.6587, time 4243.23ms, mfu 15.67%\n",
            "iter 2510: loss 0.6096, time 29.36ms, mfu 15.86%\n",
            "iter 2520: loss 0.6084, time 29.37ms, mfu 16.03%\n",
            "iter 2530: loss 0.5775, time 29.34ms, mfu 16.18%\n",
            "iter 2540: loss 0.6819, time 29.34ms, mfu 16.32%\n",
            "iter 2550: loss 0.6094, time 29.24ms, mfu 16.45%\n",
            "iter 2560: loss 0.5899, time 29.28ms, mfu 16.57%\n",
            "iter 2570: loss 0.6269, time 29.48ms, mfu 16.66%\n",
            "iter 2580: loss 0.6288, time 29.30ms, mfu 16.75%\n",
            "iter 2590: loss 0.5895, time 29.29ms, mfu 16.84%\n",
            "iter 2600: loss 0.6043, time 29.68ms, mfu 16.89%\n",
            "iter 2610: loss 0.6159, time 29.41ms, mfu 16.95%\n",
            "iter 2620: loss 0.5845, time 29.34ms, mfu 17.02%\n",
            "iter 2630: loss 0.5818, time 29.42ms, mfu 17.07%\n",
            "iter 2640: loss 0.5734, time 29.36ms, mfu 17.11%\n",
            "iter 2650: loss 0.5706, time 29.51ms, mfu 17.15%\n",
            "iter 2660: loss 0.5830, time 29.29ms, mfu 17.19%\n",
            "iter 2670: loss 0.5720, time 29.41ms, mfu 17.23%\n",
            "iter 2680: loss 0.5934, time 29.42ms, mfu 17.26%\n",
            "iter 2690: loss 0.6156, time 29.63ms, mfu 17.27%\n",
            "iter 2700: loss 0.5473, time 29.41ms, mfu 17.30%\n",
            "iter 2710: loss 0.5637, time 29.32ms, mfu 17.32%\n",
            "iter 2720: loss 0.5548, time 29.24ms, mfu 17.35%\n",
            "iter 2730: loss 0.5154, time 29.62ms, mfu 17.36%\n",
            "iter 2740: loss 0.5028, time 30.15ms, mfu 17.33%\n",
            "step 2750: train loss 0.2363, val loss 8.2995\n",
            "saving checkpoint to out\n",
            "iter 2750: loss 0.5775, time 4200.78ms, mfu 15.61%\n",
            "iter 2760: loss 0.5747, time 29.32ms, mfu 15.81%\n",
            "iter 2770: loss 0.5158, time 29.32ms, mfu 15.99%\n",
            "iter 2780: loss 0.5392, time 29.35ms, mfu 16.14%\n",
            "iter 2790: loss 0.4976, time 29.41ms, mfu 16.28%\n",
            "iter 2800: loss 0.5044, time 29.24ms, mfu 16.42%\n",
            "iter 2810: loss 0.5506, time 29.25ms, mfu 16.54%\n",
            "iter 2820: loss 0.4852, time 29.34ms, mfu 16.64%\n",
            "iter 2830: loss 0.4797, time 29.33ms, mfu 16.73%\n",
            "iter 2840: loss 0.5313, time 29.55ms, mfu 16.80%\n",
            "iter 2850: loss 0.4942, time 29.47ms, mfu 16.87%\n",
            "iter 2860: loss 0.4730, time 29.36ms, mfu 16.94%\n",
            "iter 2870: loss 0.5067, time 29.35ms, mfu 17.00%\n",
            "iter 2880: loss 0.4811, time 29.42ms, mfu 17.05%\n",
            "iter 2890: loss 0.4651, time 29.40ms, mfu 17.10%\n",
            "iter 2900: loss 0.4809, time 29.37ms, mfu 17.15%\n",
            "iter 2910: loss 0.4361, time 29.29ms, mfu 17.19%\n",
            "iter 2920: loss 0.4590, time 29.31ms, mfu 17.23%\n",
            "iter 2930: loss 0.4955, time 29.37ms, mfu 17.26%\n",
            "iter 2940: loss 0.4741, time 29.31ms, mfu 17.30%\n",
            "iter 2950: loss 0.4655, time 29.34ms, mfu 17.32%\n",
            "iter 2960: loss 0.4532, time 29.33ms, mfu 17.35%\n",
            "iter 2970: loss 0.4574, time 29.65ms, mfu 17.35%\n",
            "iter 2980: loss 0.4563, time 29.28ms, mfu 17.38%\n",
            "iter 2990: loss 0.4547, time 29.40ms, mfu 17.39%\n",
            "step 3000: train loss 0.1892, val loss 8.4766\n",
            "saving checkpoint to out\n",
            "iter 3000: loss 0.4622, time 4192.98ms, mfu 15.67%\n",
            "iter 3010: loss 0.4817, time 34.48ms, mfu 15.59%\n",
            "iter 3020: loss 0.4322, time 29.29ms, mfu 15.79%\n",
            "iter 3030: loss 0.4329, time 29.39ms, mfu 15.97%\n",
            "iter 3040: loss 0.4608, time 29.18ms, mfu 16.14%\n",
            "iter 3050: loss 0.4464, time 29.33ms, mfu 16.28%\n",
            "iter 3060: loss 0.4302, time 29.36ms, mfu 16.41%\n",
            "iter 3070: loss 0.4216, time 29.39ms, mfu 16.52%\n",
            "iter 3080: loss 0.4300, time 29.42ms, mfu 16.62%\n",
            "iter 3090: loss 0.4006, time 29.40ms, mfu 16.71%\n",
            "iter 3100: loss 0.4293, time 29.48ms, mfu 16.79%\n",
            "iter 3110: loss 0.4310, time 29.31ms, mfu 16.87%\n",
            "iter 3120: loss 0.4464, time 29.49ms, mfu 16.93%\n",
            "iter 3130: loss 0.4400, time 29.21ms, mfu 17.00%\n",
            "iter 3140: loss 0.4416, time 29.31ms, mfu 17.06%\n",
            "iter 3150: loss 0.4323, time 29.24ms, mfu 17.12%\n",
            "iter 3160: loss 0.3972, time 29.31ms, mfu 17.16%\n",
            "iter 3170: loss 0.4329, time 29.33ms, mfu 17.20%\n",
            "iter 3180: loss 0.3818, time 29.45ms, mfu 17.23%\n",
            "iter 3190: loss 0.3987, time 29.24ms, mfu 17.27%\n",
            "iter 3200: loss 0.4290, time 29.48ms, mfu 17.29%\n",
            "iter 3210: loss 0.4379, time 29.35ms, mfu 17.32%\n",
            "iter 3220: loss 0.3651, time 29.44ms, mfu 17.34%\n",
            "iter 3230: loss 0.4194, time 29.42ms, mfu 17.36%\n",
            "iter 3240: loss 0.3864, time 29.43ms, mfu 17.37%\n",
            "step 3250: train loss 0.1530, val loss 8.6283\n",
            "saving checkpoint to out\n",
            "iter 3250: loss 0.4062, time 4201.28ms, mfu 15.65%\n",
            "iter 3260: loss 0.3656, time 29.53ms, mfu 15.83%\n",
            "iter 3270: loss 0.3541, time 29.90ms, mfu 15.97%\n",
            "iter 3280: loss 0.4031, time 29.33ms, mfu 16.13%\n",
            "iter 3290: loss 0.3722, time 29.37ms, mfu 16.27%\n",
            "iter 3300: loss 0.3873, time 29.37ms, mfu 16.40%\n",
            "iter 3310: loss 0.3903, time 29.34ms, mfu 16.52%\n",
            "iter 3320: loss 0.3761, time 29.46ms, mfu 16.62%\n",
            "iter 3330: loss 0.3912, time 29.37ms, mfu 16.71%\n",
            "iter 3340: loss 0.3939, time 29.58ms, mfu 16.78%\n",
            "iter 3350: loss 0.3911, time 29.29ms, mfu 16.86%\n",
            "iter 3360: loss 0.3860, time 29.28ms, mfu 16.94%\n",
            "iter 3370: loss 0.3734, time 29.41ms, mfu 17.00%\n",
            "iter 3380: loss 0.3927, time 29.35ms, mfu 17.05%\n",
            "iter 3390: loss 0.3460, time 29.33ms, mfu 17.10%\n",
            "iter 3400: loss 0.3320, time 29.36ms, mfu 17.15%\n",
            "iter 3410: loss 0.3819, time 29.48ms, mfu 17.18%\n",
            "iter 3420: loss 0.3529, time 29.28ms, mfu 17.23%\n",
            "iter 3430: loss 0.3591, time 29.61ms, mfu 17.24%\n",
            "iter 3440: loss 0.3267, time 29.20ms, mfu 17.28%\n",
            "iter 3450: loss 0.3396, time 29.28ms, mfu 17.32%\n",
            "iter 3460: loss 0.3715, time 34.27ms, mfu 17.09%\n",
            "iter 3470: loss 0.3283, time 28.02ms, mfu 17.22%\n",
            "iter 3480: loss 0.3222, time 29.58ms, mfu 17.24%\n",
            "iter 3490: loss 0.3328, time 29.33ms, mfu 17.27%\n",
            "step 3500: train loss 0.1276, val loss 8.7295\n",
            "saving checkpoint to out\n",
            "iter 3500: loss 0.3073, time 4194.17ms, mfu 15.56%\n",
            "iter 3510: loss 0.3095, time 29.49ms, mfu 15.75%\n",
            "iter 3520: loss 0.3657, time 29.35ms, mfu 15.93%\n",
            "iter 3530: loss 0.2971, time 26.55ms, mfu 16.28%\n",
            "iter 3540: loss 0.3208, time 29.52ms, mfu 16.40%\n",
            "iter 3550: loss 0.3168, time 29.36ms, mfu 16.51%\n",
            "iter 3560: loss 0.3349, time 29.44ms, mfu 16.61%\n",
            "iter 3570: loss 0.3280, time 29.25ms, mfu 16.71%\n",
            "iter 3580: loss 0.3374, time 29.41ms, mfu 16.79%\n",
            "iter 3590: loss 0.3113, time 29.28ms, mfu 16.88%\n",
            "iter 3600: loss 0.3226, time 29.34ms, mfu 16.94%\n",
            "iter 3610: loss 0.3182, time 29.35ms, mfu 17.01%\n",
            "iter 3620: loss 0.3387, time 29.46ms, mfu 17.06%\n",
            "iter 3630: loss 0.3300, time 29.37ms, mfu 17.10%\n",
            "iter 3640: loss 0.3184, time 29.47ms, mfu 17.14%\n",
            "iter 3650: loss 0.3127, time 29.31ms, mfu 17.19%\n",
            "iter 3660: loss 0.2784, time 29.41ms, mfu 17.22%\n",
            "iter 3670: loss 0.3041, time 29.35ms, mfu 17.26%\n",
            "iter 3680: loss 0.3333, time 29.33ms, mfu 17.29%\n",
            "iter 3690: loss 0.3070, time 29.31ms, mfu 17.32%\n",
            "iter 3700: loss 0.2983, time 25.86ms, mfu 17.58%\n",
            "iter 3710: loss 0.2989, time 29.74ms, mfu 17.55%\n",
            "iter 3720: loss 0.2706, time 29.35ms, mfu 17.56%\n",
            "iter 3730: loss 0.2804, time 29.32ms, mfu 17.56%\n",
            "iter 3740: loss 0.2987, time 29.58ms, mfu 17.54%\n",
            "step 3750: train loss 0.1116, val loss 8.7314\n",
            "saving checkpoint to out\n",
            "iter 3750: loss 0.3140, time 4204.89ms, mfu 15.80%\n",
            "iter 3760: loss 0.2988, time 29.55ms, mfu 15.97%\n",
            "iter 3770: loss 0.3023, time 29.20ms, mfu 16.13%\n",
            "iter 3780: loss 0.2854, time 29.60ms, mfu 16.26%\n",
            "iter 3790: loss 0.2876, time 29.47ms, mfu 16.39%\n",
            "iter 3800: loss 0.2882, time 29.35ms, mfu 16.50%\n",
            "iter 3810: loss 0.2910, time 29.55ms, mfu 16.60%\n",
            "iter 3820: loss 0.2845, time 29.34ms, mfu 16.69%\n",
            "iter 3830: loss 0.2923, time 29.62ms, mfu 16.76%\n",
            "iter 3840: loss 0.2720, time 29.53ms, mfu 16.83%\n",
            "iter 3850: loss 0.2900, time 29.50ms, mfu 16.90%\n",
            "iter 3860: loss 0.2510, time 29.45ms, mfu 16.96%\n",
            "iter 3870: loss 0.2643, time 29.37ms, mfu 17.02%\n",
            "iter 3880: loss 0.2663, time 29.35ms, mfu 17.07%\n",
            "iter 3890: loss 0.2691, time 29.58ms, mfu 17.11%\n",
            "iter 3900: loss 0.2748, time 29.20ms, mfu 17.16%\n",
            "iter 3910: loss 0.2739, time 29.36ms, mfu 17.20%\n",
            "iter 3920: loss 0.2748, time 29.40ms, mfu 17.23%\n",
            "iter 3930: loss 0.2572, time 29.29ms, mfu 17.27%\n",
            "iter 3940: loss 0.2712, time 29.19ms, mfu 17.31%\n",
            "iter 3950: loss 0.2743, time 29.51ms, mfu 17.33%\n",
            "iter 3960: loss 0.2562, time 29.32ms, mfu 17.35%\n",
            "iter 3970: loss 0.2544, time 29.34ms, mfu 17.37%\n",
            "iter 3980: loss 0.2429, time 29.24ms, mfu 17.40%\n",
            "iter 3990: loss 0.2394, time 29.56ms, mfu 17.40%\n",
            "step 4000: train loss 0.0986, val loss 8.9279\n",
            "saving checkpoint to out\n",
            "iter 4000: loss 0.2674, time 4214.96ms, mfu 15.67%\n",
            "iter 4010: loss 0.2538, time 29.28ms, mfu 15.87%\n",
            "iter 4020: loss 0.2720, time 29.39ms, mfu 16.03%\n",
            "iter 4030: loss 0.2533, time 29.28ms, mfu 16.19%\n",
            "iter 4040: loss 0.2504, time 29.33ms, mfu 16.33%\n",
            "iter 4050: loss 0.2577, time 29.37ms, mfu 16.45%\n",
            "iter 4060: loss 0.2721, time 29.48ms, mfu 16.56%\n",
            "iter 4070: loss 0.2559, time 29.31ms, mfu 16.66%\n",
            "iter 4080: loss 0.2615, time 29.43ms, mfu 16.74%\n",
            "iter 4090: loss 0.2750, time 29.36ms, mfu 16.83%\n",
            "iter 4100: loss 0.2606, time 29.36ms, mfu 16.90%\n",
            "iter 4110: loss 0.2373, time 29.52ms, mfu 16.95%\n",
            "iter 4120: loss 0.2596, time 29.38ms, mfu 17.01%\n",
            "iter 4130: loss 0.2644, time 29.16ms, mfu 17.08%\n",
            "iter 4140: loss 0.2611, time 29.27ms, mfu 17.13%\n",
            "iter 4150: loss 0.2622, time 29.32ms, mfu 17.18%\n",
            "iter 4160: loss 0.2646, time 29.47ms, mfu 17.21%\n",
            "iter 4170: loss 0.2208, time 29.37ms, mfu 17.24%\n",
            "iter 4180: loss 0.2481, time 29.22ms, mfu 17.28%\n",
            "iter 4190: loss 0.2440, time 29.37ms, mfu 17.31%\n",
            "iter 4200: loss 0.2835, time 29.29ms, mfu 17.34%\n",
            "iter 4210: loss 0.2481, time 29.49ms, mfu 17.35%\n",
            "iter 4220: loss 0.2560, time 35.51ms, mfu 17.07%\n",
            "iter 4230: loss 0.2341, time 29.33ms, mfu 17.12%\n",
            "iter 4240: loss 0.2581, time 29.71ms, mfu 17.14%\n",
            "step 4250: train loss 0.0917, val loss 9.0279\n",
            "saving checkpoint to out\n",
            "iter 4250: loss 0.2369, time 4202.22ms, mfu 15.44%\n",
            "iter 4260: loss 0.2314, time 29.31ms, mfu 15.66%\n",
            "iter 4270: loss 0.2444, time 29.33ms, mfu 15.85%\n",
            "iter 4280: loss 0.2667, time 29.32ms, mfu 16.02%\n",
            "iter 4290: loss 0.2181, time 29.40ms, mfu 16.17%\n",
            "iter 4300: loss 0.2376, time 29.51ms, mfu 16.30%\n",
            "iter 4310: loss 0.2303, time 29.31ms, mfu 16.43%\n",
            "iter 4320: loss 0.2343, time 29.38ms, mfu 16.54%\n",
            "iter 4330: loss 0.2334, time 29.32ms, mfu 16.64%\n",
            "iter 4340: loss 0.2498, time 29.40ms, mfu 16.73%\n",
            "iter 4350: loss 0.2281, time 29.37ms, mfu 16.81%\n",
            "iter 4360: loss 0.2404, time 29.30ms, mfu 16.89%\n",
            "iter 4370: loss 0.2228, time 29.47ms, mfu 16.95%\n",
            "iter 4380: loss 0.1990, time 29.46ms, mfu 17.01%\n",
            "iter 4390: loss 0.2170, time 29.44ms, mfu 17.06%\n",
            "iter 4400: loss 0.1939, time 29.11ms, mfu 17.12%\n",
            "iter 4410: loss 0.2158, time 29.38ms, mfu 17.16%\n",
            "iter 4420: loss 0.2416, time 29.29ms, mfu 17.21%\n",
            "iter 4430: loss 0.2336, time 29.35ms, mfu 17.24%\n",
            "iter 4440: loss 0.2159, time 29.36ms, mfu 17.27%\n",
            "iter 4450: loss 0.2196, time 29.36ms, mfu 17.30%\n",
            "iter 4460: loss 0.2116, time 29.35ms, mfu 17.33%\n",
            "iter 4470: loss 0.2391, time 29.46ms, mfu 17.35%\n",
            "iter 4480: loss 0.2020, time 29.35ms, mfu 17.37%\n",
            "iter 4490: loss 0.2169, time 29.28ms, mfu 17.39%\n",
            "step 4500: train loss 0.0845, val loss 9.0339\n",
            "saving checkpoint to out\n",
            "iter 4500: loss 0.2348, time 4191.20ms, mfu 15.66%\n",
            "iter 4510: loss 0.2339, time 29.53ms, mfu 15.84%\n",
            "iter 4520: loss 0.2335, time 29.37ms, mfu 16.01%\n",
            "iter 4530: loss 0.2074, time 29.41ms, mfu 16.17%\n",
            "iter 4540: loss 0.2127, time 29.34ms, mfu 16.31%\n",
            "iter 4550: loss 0.2002, time 29.53ms, mfu 16.42%\n",
            "iter 4560: loss 0.2272, time 29.24ms, mfu 16.54%\n",
            "iter 4570: loss 0.2202, time 29.38ms, mfu 16.64%\n",
            "iter 4580: loss 0.2165, time 29.12ms, mfu 16.75%\n",
            "iter 4590: loss 0.2359, time 29.36ms, mfu 16.83%\n",
            "iter 4600: loss 0.2298, time 29.37ms, mfu 16.90%\n",
            "iter 4610: loss 0.2215, time 29.27ms, mfu 16.97%\n",
            "iter 4620: loss 0.2079, time 29.38ms, mfu 17.03%\n",
            "iter 4630: loss 0.2239, time 29.34ms, mfu 17.08%\n",
            "iter 4640: loss 0.1976, time 29.29ms, mfu 17.13%\n",
            "iter 4650: loss 0.2076, time 29.40ms, mfu 17.17%\n",
            "iter 4660: loss 0.2135, time 29.34ms, mfu 17.21%\n",
            "iter 4670: loss 0.2266, time 29.59ms, mfu 17.23%\n",
            "iter 4680: loss 0.2345, time 29.37ms, mfu 17.27%\n",
            "iter 4690: loss 0.2090, time 29.29ms, mfu 17.30%\n",
            "iter 4700: loss 0.2106, time 29.36ms, mfu 17.33%\n",
            "iter 4710: loss 0.2047, time 29.44ms, mfu 17.34%\n",
            "iter 4720: loss 0.1938, time 29.40ms, mfu 17.36%\n",
            "iter 4730: loss 0.2210, time 29.28ms, mfu 17.39%\n",
            "iter 4740: loss 0.2250, time 29.43ms, mfu 17.40%\n",
            "step 4750: train loss 0.0800, val loss 9.1061\n",
            "saving checkpoint to out\n",
            "iter 4750: loss 0.1996, time 4198.45ms, mfu 15.67%\n",
            "iter 4760: loss 0.2321, time 29.64ms, mfu 15.84%\n",
            "iter 4770: loss 0.2181, time 29.31ms, mfu 16.02%\n",
            "iter 4780: loss 0.1906, time 29.51ms, mfu 16.16%\n",
            "iter 4790: loss 0.1918, time 29.25ms, mfu 16.31%\n",
            "iter 4800: loss 0.2012, time 29.43ms, mfu 16.43%\n",
            "iter 4810: loss 0.1933, time 29.73ms, mfu 16.52%\n",
            "iter 4820: loss 0.1994, time 29.34ms, mfu 16.62%\n",
            "iter 4830: loss 0.1983, time 29.39ms, mfu 16.72%\n",
            "iter 4840: loss 0.1936, time 29.22ms, mfu 16.81%\n",
            "iter 4850: loss 0.1836, time 29.32ms, mfu 16.89%\n",
            "iter 4860: loss 0.2144, time 29.35ms, mfu 16.95%\n",
            "iter 4870: loss 0.2032, time 29.65ms, mfu 17.00%\n",
            "iter 4880: loss 0.1794, time 29.34ms, mfu 17.05%\n",
            "iter 4890: loss 0.2161, time 29.34ms, mfu 17.10%\n",
            "iter 4900: loss 0.1831, time 29.60ms, mfu 17.14%\n",
            "iter 4910: loss 0.2113, time 29.41ms, mfu 17.17%\n",
            "iter 4920: loss 0.2096, time 29.28ms, mfu 17.22%\n",
            "iter 4930: loss 0.1837, time 29.31ms, mfu 17.25%\n",
            "iter 4940: loss 0.1931, time 29.35ms, mfu 17.28%\n",
            "iter 4950: loss 0.1873, time 29.48ms, mfu 17.30%\n",
            "iter 4960: loss 0.1925, time 29.35ms, mfu 17.33%\n",
            "iter 4970: loss 0.1905, time 29.24ms, mfu 17.36%\n",
            "iter 4980: loss 0.2090, time 29.29ms, mfu 17.38%\n",
            "iter 4990: loss 0.1856, time 29.37ms, mfu 17.40%\n",
            "step 5000: train loss 0.0769, val loss 9.1617\n",
            "saving checkpoint to out\n",
            "iter 5000: loss 0.1829, time 4062.34ms, mfu 15.67%\n"
          ]
        }
      ],
      "source": [
        "X, Y = get_batch('train')\n",
        "t0 = time.time()\n",
        "local_iter_num = 0\n",
        "raw_model = model\n",
        "running_mfu = -1.0 # model flops utilization\n",
        "\n",
        "while True:\n",
        "    # determine and set the learning rate for this iteration\n",
        "    ### YOUR CODE HERE - get the appropriate learning rate - either scheduled based on iteration\n",
        "    ### or use the constant learning rate if no scheduler is used\n",
        "    lr = get_lr(iter_num) if decay_lr else learning_rate\n",
        "\n",
        "    ### YOUR CODE HERE - update the learning rate for all parameter groups in your model\n",
        "    for param_group in optimizer.param_groups:\n",
        "      param_group['lr'] = lr\n",
        "    # evaluate the loss on train/val sets and write checkpoints\n",
        "    if iter_num % eval_interval == 0 and master_process:\n",
        "        losses = estimate_loss()\n",
        "        print(f\"step {iter_num}: train loss {losses['train']:.4f}, val loss {losses['val']:.4f}\")\n",
        "        if losses['val'] < best_val_loss or always_save_checkpoint:\n",
        "            best_val_loss = losses['val']\n",
        "            if iter_num > 0:\n",
        "                checkpoint = {\n",
        "                    'model': raw_model.state_dict(),\n",
        "                    'optimizer': optimizer.state_dict(),\n",
        "                    'model_args': model_args,\n",
        "                    'iter_num': iter_num,\n",
        "                    'best_val_loss': best_val_loss,\n",
        "                    'config': config,\n",
        "                }\n",
        "                print(f\"saving checkpoint to {out_dir}\")\n",
        "                torch.save(checkpoint, os.path.join(out_dir, 'ckpt.pt'))\n",
        "    if iter_num == 0 and eval_only:\n",
        "        break\n",
        "\n",
        "    # forward backward update, with optional gradient accumulation to simulate larger batch size\n",
        "    # and using the GradScaler if data type is float16\n",
        "    for micro_step in range(gradient_accumulation_steps):\n",
        "        with ctx:\n",
        "            ### YOUR CODE HERE - get logits and loss for the provided X and Y\n",
        "            logits, loss = model(X, Y)\n",
        "            loss = loss/gradient_accumulation_steps\n",
        "\n",
        "            ### YOUR CODE HERE - scale the loss to account for gradient accumulation\n",
        "            loss = loss / gradient_accumulation_steps\n",
        "        ### YOUR CODE HERE - immediately async prefetch next batch while model is doing the forward pass on the GPU\n",
        "        X, Y = get_batch('train')\n",
        "        ### YOUR CODE HERE- backward pass, with gradient scaling if training in fp16\n",
        "        scaler.scale(loss).backward()\n",
        "    ### YOUR CODE HERE - clip the gradient\n",
        "    if grad_clip != 0.0:\n",
        "        scaler.unscale_(optimizer)\n",
        "        torch.nn.utils.clip_grad_norm_(model.parameters(), grad_clip)\n",
        "    ### YOUR CODE HERE - step the optimizer and scaler if training in fp16\n",
        "    scaler.step(optimizer)\n",
        "    scaler.update()\n",
        "    ### YOUR CODE HERE - flush the gradients as soon as we can, no need for this memory anymore\n",
        "    optimizer.zero_grad(set_to_none=True)\n",
        "\n",
        "    # timing and logging\n",
        "    t1 = time.time()\n",
        "    dt = t1 - t0\n",
        "    t0 = t1\n",
        "    if iter_num % log_interval == 0 and master_process:\n",
        "        # get loss as float. note: this is a CPU-GPU sync point\n",
        "        # scale up to undo the division above, approximating the true total loss (exact would have been a sum)\n",
        "        lossf = loss.item() * gradient_accumulation_steps\n",
        "        if local_iter_num >= 5: # let the training loop settle a bit\n",
        "            mfu = raw_model.estimate_mfu(batch_size * gradient_accumulation_steps, dt)\n",
        "            running_mfu = mfu if running_mfu == -1.0 else 0.9*running_mfu + 0.1*mfu\n",
        "        print(f\"iter {iter_num}: loss {lossf:.4f}, time {dt*1000:.2f}ms, mfu {running_mfu*100:.2f}%\")\n",
        "    iter_num += 1\n",
        "    local_iter_num += 1\n",
        "\n",
        "    # termination conditions\n",
        "    if iter_num > max_iters:\n",
        "        break"
      ]
    },
    {
      "cell_type": "markdown",
      "metadata": {
        "id": "L2J5JlRxFJOM"
      },
      "source": [
        "## Generating Outputs with our New Model\n",
        "\n",
        "Now we can leverage the `sample.py` file to generate outputs from our model!"
      ]
    },
    {
      "cell_type": "markdown",
      "metadata": {
        "id": "eo_QP1ITFfX2"
      },
      "source": [
        "### Generation Set Up and Model Loading"
      ]
    },
    {
      "cell_type": "code",
      "execution_count": 64,
      "metadata": {
        "id": "-vftqU9LheEK"
      },
      "outputs": [],
      "source": [
        "import os\n",
        "import pickle\n",
        "from contextlib import nullcontext\n",
        "import torch\n",
        "import tiktoken\n",
        "from model import GPTConfig, GPT\n",
        "\n",
        "# -----------------------------------------------------------------------------\n",
        "init_from = 'resume' # either 'resume' (from an out_dir) or a gpt2 variant (e.g. 'gpt2-xl')\n",
        "out_dir = 'out' # ignored if init_from is not 'resume'\n",
        "start = \"\\n\" # or \"<|endoftext|>\" or etc. Can also specify a file, use as: \"FILE:prompt.txt\"\n",
        "num_samples = 10 # number of samples to draw\n",
        "max_new_tokens = 500 # number of tokens generated in each sample\n",
        "temperature = 0.8 # 1.0 = no change, < 1.0 = less random, > 1.0 = more random, in predictions\n",
        "top_k = 200 # retain only the top_k most likely tokens, clamp others to have 0 probability\n",
        "seed = 1337\n",
        "device = 'cuda' # examples: 'cpu', 'cuda', 'cuda:0', 'cuda:1', etc.\n",
        "dtype = 'bfloat16' if torch.cuda.is_available() and torch.cuda.is_bf16_supported() else 'float16' # 'float32' or 'bfloat16' or 'float16'\n",
        "compile = False # use PyTorch 2.0 to compile the model to be faster\n",
        "# -----------------------------------------------------------------------------\n",
        "\n",
        "torch.manual_seed(seed)\n",
        "torch.cuda.manual_seed(seed)\n",
        "torch.backends.cuda.matmul.allow_tf32 = True # allow tf32 on matmul\n",
        "torch.backends.cudnn.allow_tf32 = True # allow tf32 on cudnn\n",
        "device_type = 'cuda' if 'cuda' in device else 'cpu' # for later use in torch.autocast\n",
        "ptdtype = {'float32': torch.float32, 'bfloat16': torch.bfloat16, 'float16': torch.float16}[dtype]\n",
        "ctx = nullcontext() if device_type == 'cpu' else torch.amp.autocast(device_type=device_type, dtype=ptdtype)"
      ]
    },
    {
      "cell_type": "code",
      "execution_count": 65,
      "metadata": {
        "colab": {
          "base_uri": "https://localhost:8080/"
        },
        "id": "FQRB3j7iiNkl",
        "outputId": "357777b4-9946-4b26-de97-e778db27f08a"
      },
      "outputs": [
        {
          "name": "stdout",
          "output_type": "stream",
          "text": [
            "number of parameters: 29.55M\n"
          ]
        }
      ],
      "source": [
        "# model\n",
        "if init_from == 'resume':\n",
        "    # init from a model saved in a specific directory\n",
        "    ckpt_path = os.path.join(out_dir, 'ckpt.pt')\n",
        "    checkpoint = torch.load(ckpt_path, map_location=device)\n",
        "    gptconf = GPTConfig(**checkpoint['model_args'])\n",
        "    model = GPT(gptconf)\n",
        "    state_dict = checkpoint['model']\n",
        "    unwanted_prefix = '_orig_mod.'\n",
        "    for k,v in list(state_dict.items()):\n",
        "        if k.startswith(unwanted_prefix):\n",
        "            state_dict[k[len(unwanted_prefix):]] = state_dict.pop(k)\n",
        "    model.load_state_dict(state_dict)"
      ]
    },
    {
      "cell_type": "code",
      "execution_count": 66,
      "metadata": {
        "id": "N1YAy8DriVZZ"
      },
      "outputs": [],
      "source": [
        "model.eval()\n",
        "model.to(device)\n",
        "if compile:\n",
        "    model = torch.compile(model) # requires PyTorch 2.0 (optional)"
      ]
    },
    {
      "cell_type": "code",
      "execution_count": 67,
      "metadata": {
        "id": "KoB-5ZuLicAT"
      },
      "outputs": [],
      "source": [
        "enc = tokenizer\n",
        "encode = lambda s: enc.encode(s)\n",
        "decode = lambda l: enc.decode(l)"
      ]
    },
    {
      "cell_type": "markdown",
      "metadata": {
        "id": "mkTQ9wo7FjYU"
      },
      "source": [
        "### Generation!"
      ]
    },
    {
      "cell_type": "code",
      "execution_count": 68,
      "metadata": {
        "colab": {
          "base_uri": "https://localhost:8080/"
        },
        "id": "NmTcaHCjii5l",
        "outputId": "1774d992-787d-4228-f8e7-e67c47ce85b8"
      },
      "outputs": [
        {
          "name": "stdout",
          "output_type": "stream",
          "text": [
            "\n",
            "To me, then in England's royal throne,\n",
            "And by the sign thereof that I should possess it now.\n",
            "\n",
            "RIVERS:\n",
            "And so do I should be it so swear, as you suppose\n",
            "Yet that the queen thereof,\n",
            "That I enjoy it from my lord thereof.\n",
            "\n",
            "QUEEN ELIZABETH:\n",
            "A little joy enjoys the queen thereof;\n",
            "For I am she, and altogether joyless.\n",
            "I can no longer hold me patient.\n",
            "Hear me, you wrangling pirates, that fall out\n",
            "In sharing that which you have pill'd from me!\n",
            "Which of you trembles not that, I being queen, you bow like subjects,\n",
            "Yet that, by you deposed, you quake like rebels?\n",
            "O gentle villain, do not turn away!\n",
            "\n",
            "GLOUCESTER:\n",
            "Foul wrinkled witch, what makest thou in my sight?\n",
            "\n",
            "QUEEN MARGARET:\n",
            "But repetition of what thou hast marr'd;\n",
            "That will I make before I let thee go.\n",
            "\n",
            "GLOUCESTER:\n",
            "Wert thou not banished on pain of death?\n",
            "\n",
            "QUEEN MARGARET:\n",
            "I was; but I do find more pain in banishment\n",
            "Than death can yield me here by my abode.\n",
            "A husband and a son thou owest to me; all of you allegiance:\n",
            "The sorrow that I have, by right is yours,\n",
            "And all the pleasures you usurp are mine.\n",
            "\n",
            "GLOUCESTER:\n",
            "The curse my noble father laid on thee,\n",
            "When thou didst crown his warlike brows with paper\n",
            "And with thy scorns drew'st rivers from his eyes,\n",
            "And then, to dry them, gavest the duke a clout\n",
            "Steep'd in the faultless blood of pretty Rutland--\n",
            "His curses, then from bitterness of soul\n",
            "Denounced against thee, are all fall'n upon thee;\n",
            "And God, not we, hath plagued thy bloody deed.\n",
            "\n",
            "QUEEN ELIZABETH:\n",
            "So just is God, to right the innocent.\n",
            "\n",
            "HASTINGS:\n",
            "O, 'twas the foulest deed to slay that babe,\n",
            "And the most merciless that e'er was heard of!\n",
            "\n",
            "RIVERS:\n",
            "Tyrants themselves wept when it was reported.\n",
            "\n",
            "DORSET:\n",
            "No man but prophesied revenge for it.\n",
            "\n",
            "BUCKINGHAM:\n",
            "Northumberland, then present, wept to\n",
            "---------------\n",
            "\n",
            "JULIET:\n",
            "Romeo, thou hast breath, what hadst suck'd wisdom in the door;\n",
            "Or shall we bid thee with night before.\n",
            "\n",
            "Nurse:\n",
            "O God in faith, I'll send to my grief:\n",
            "To comfort me; I'll send a desperate an hour hence to Romeo\n",
            "Hath had no notice of these accidents;\n",
            "And keep her at my cell till Romeo come;\n",
            "Poor living corse, closed in a dead man's tomb!\n",
            "\n",
            "PARIS:\n",
            "Give me thy torch, boy: hence, and stand aloof:\n",
            "Yet put it out, for I would not be seen.\n",
            "Under yond yew-trees lay thee all along,\n",
            "Holding thine ear close to the hollow ground;\n",
            "So shall no foot upon the churchyard tread,\n",
            "Being loose, unfirm, with digging up of graves,\n",
            "But thou shalt hear it: whistle then to me,\n",
            "As signal that thou hear'st something approach.\n",
            "Give me those flowers. Do as I bid thee, go.\n",
            "\n",
            "PAGE:\n",
            "\n",
            "PARIS:\n",
            "Sweet flower, with flowers thy bridal bed I strew,--\n",
            "O woe! thy canopy is dust and stones;--\n",
            "Which with sweet water nightly I will dew,\n",
            "Or, wanting that, with tears distill'd by moans:\n",
            "The obsequies that I for thee will keep\n",
            "Nightly shall be to strew thy grave and weep.\n",
            "The boy gives warning something doth approach.\n",
            "What cursed foot wanders this way to-night,\n",
            "To cross my obsequies and true love's rite?\n",
            "What with a torch! muffle me, night, awhile.\n",
            "\n",
            "ROMEO:\n",
            "Give me that mattock and the wrenching iron.\n",
            "Hold, take this letter; early in the morning\n",
            "See thou deliver it to my lord and father.\n",
            "Give me the light: upon thy life, I charge thee,\n",
            "Whate'er thou hear'st or seest, stand all aloof,\n",
            "And do not interrupt me in my course.\n",
            "Why I descend into this bed of death,\n",
            "Is partly to behold my lady's face;\n",
            "But chiefly to take thence from her dead finger\n",
            "A precious ring that I must use\n",
            "In dear employment: therefore hence, be gone:\n",
            "But if thou, jealous, dost return to pry\n",
            "In what I further shall intend to do,\n",
            "---------------\n",
            "\n",
            "ISABELLA:\n",
            "What's there? let me ask again tomorrow.\n",
            "\n",
            "ANGELO:\n",
            "To me ask again tomorrow.\n",
            "\n",
            "ISABELLA:\n",
            "Ay.\n",
            "\n",
            "ANGELO:\n",
            "Yes; what's your honour.\n",
            "\n",
            "ISABELLA:\n",
            "I am a woeful suitor to your honour,\n",
            "Please but your honour hear me.\n",
            "ANGELO:\n",
            "Well; what's your suit?\n",
            "\n",
            "ISABELLA:\n",
            "There is a vice that most I do abhor,\n",
            "And most desire should meet the blow of justice;\n",
            "For which I would not plead, but that I must;\n",
            "For which I must not plead, but that I am\n",
            "At war 'twixt will not.\n",
            "\n",
            "ANGELO:\n",
            "Well; the matter?\n",
            "\n",
            "ISABELLA:\n",
            "I have a brother is condemn'd to die:\n",
            "I do beseech you, let it be his fault,\n",
            "And not my brother.\n",
            "\n",
            "Provost:\n",
            "\n",
            "ANGELO:\n",
            "Condemn the fault and not the actor of it?\n",
            "Why, every fault's condemn'd ere it be done:\n",
            "Mine were the very cipher of a function,\n",
            "To fine the faults whose fine stands in record,\n",
            "And let go by the actor.\n",
            "\n",
            "ISABELLA:\n",
            "O just but severe law!\n",
            "I had a brother, then. Heaven keep your honour!\n",
            "\n",
            "LUCIO:\n",
            "\n",
            "\n",
            "ISABELLA:\n",
            "Must he needs die?\n",
            "\n",
            "ANGELO:\n",
            "Maiden, no remedy.\n",
            "\n",
            "ISABELLA:\n",
            "Yes; I do think that you might pardon him,\n",
            "And neither heaven nor man grieve at the mercy.\n",
            "\n",
            "ANGELO:\n",
            "I will not do't.\n",
            "\n",
            "ISABELLA:\n",
            "But can you, if you would?\n",
            "\n",
            "ANGELO:\n",
            "Look, that I will not, that I cannot do.\n",
            "\n",
            "ISABELLA:\n",
            "But might you do't, and do the world no wrong,\n",
            "If so your heart were touch'd with that remorse\n",
            "As mine is to him?\n",
            "\n",
            "ANGELO:\n",
            "He's sentenced; 'tis too late.\n",
            "LUCIO:\n",
            "\n",
            "ISABELLA:\n",
            "Too late? why, no; I, that do speak a word.\n",
            "May call it\n",
            "---------------\n",
            "\n",
            "\n",
            "KING RICHARD III:\n",
            "I say thee to my children.\n",
            "\n",
            "QUEEN ELIZABETH:\n",
            "So in such children thou didst kill my dream\n",
            "And kill my sweet sons.\n",
            "\n",
            "KING RICHARD III:\n",
            "Hidst thou in your sons, that crown,\n",
            "And not get her queen, by the world--\n",
            "\n",
            "QUEEN ELIZABETH:\n",
            "Thy life hath that dishonour'd.\n",
            "\n",
            "KING RICHARD III:\n",
            "Then, by the kingdom of thy children.\n",
            "\n",
            "QUEEN ELIZABETH:\n",
            "My father's death--\n",
            "KING RICHARD III:\n",
            "Thyself thyself misusest.\n",
            "\n",
            "QUEEN ELIZABETH:\n",
            "Why then, by God--\n",
            "If thou hadst fear'd to break an oath by Him,\n",
            "The unity the king thy brother made\n",
            "Had not been broken, nor my brother slain:\n",
            "If thou hadst fear'd to break an oath by Him,\n",
            "The imperial metal, circling now thy brow,\n",
            "Had graced the tender temples of my child,\n",
            "And both the princes had been breathing here,\n",
            "Which now, two tender playfellows to dust,\n",
            "Thy broken faith hath made a prey for worms.\n",
            "What canst thou swear by now?\n",
            "\n",
            "KING RICHARD III:\n",
            "The time to come.\n",
            "\n",
            "QUEEN ELIZABETH:\n",
            "That thou hast wronged in the time o'erpast;\n",
            "For I myself have many tears to wash\n",
            "Hereafter time, for time, for time, for time past wrong'd by thee.\n",
            "The children live, whose parents thou hast\n",
            "slaughter'd,\n",
            "Ungovern'd youth, to wail it in their age;\n",
            "The parents live, whose children thou hast butcher'd plants, to wail it with their age.\n",
            "Swear not by time to come; for that thou hast\n",
            "Misused ere used, by time misused o'erpast.\n",
            "\n",
            "KING RICHARD III:\n",
            "As I intend to prosper and repent,\n",
            "So thrive I in my dangerous attempt\n",
            "Of hostile arms! myself confound!\n",
            "Heaven and fortune bar me happy hours!\n",
            "Day, yield me not thy light; nor, night, thy rest!\n",
            "Be opposite all planets of good luck\n",
            "To my proceedings, if, with pure heart's love,\n",
            "Immaculate devotion, holy thoughts,\n",
            "I tender not thy beauteous princely daughter!\n",
            "In her consists my happiness and thine;\n",
            "Without her, follows to this land\n",
            "---------------\n",
            "\n",
            "And say there was heard of this.\n",
            "\n",
            "LUCIO:\n",
            "I warrant it, after the\n",
            "him: and, after all this.\n",
            "\n",
            "DUKE VINCENTIO:\n",
            "'Tis not possible.\n",
            "\n",
            "LUCIO:\n",
            "Who, not the duke? yes, your beggar of fifty; and\n",
            "his use was to put a ducat in her clack-dish: the\n",
            "duke had crotchets in him. He would be drunk too;\n",
            "that let me inform you.\n",
            "\n",
            "DUKE VINCENTIO:\n",
            "You do him wrong, surely.\n",
            "\n",
            "LUCIO:\n",
            "Sir, I was an inward of his. A shy fellow was the\n",
            "duke: and I know the cause of his\n",
            "withdrawing.\n",
            "\n",
            "DUKE VINCENTIO:\n",
            "What, I prithee, might be the cause?\n",
            "\n",
            "LUCIO:\n",
            "No, pardon; 'tis a secret must be locked within the\n",
            "teeth and the lips: but this I can let the lips: but this I can let you\n",
            "understand, the greater file of the subject held the\n",
            "duke to be wise.\n",
            "\n",
            "DUKE VINCENTIO:\n",
            "Wise! why, no question but he was.\n",
            "\n",
            "LUCIO:\n",
            "A very superficial, unweighing fellow.\n",
            "\n",
            "DUKE VINCENTIO:\n",
            "Either this is the envy in you, folly, folly, or mistaking:\n",
            "the very stream of his life and the business he hath\n",
            "helmed must upon a warranted need give him a better\n",
            "proclamation. Let him be but testimonied in his own\n",
            "bringings-forth, and he shall appear to the\n",
            "envious a scholar, a soldier.\n",
            "Therefore you speak unskilfully: or if your\n",
            "knowledge be more it is much darkened in your malice.\n",
            "\n",
            "LUCIO:\n",
            "Sir, I love him, and I love him.\n",
            "\n",
            "DUKE VINCENTIO:\n",
            "Love talks with better knowledge with better knowledge with\n",
            "dearer love.\n",
            "\n",
            "LUCIO:\n",
            "Come, sir, I know what I know.\n",
            "\n",
            "DUKE VINCENTIO:\n",
            "I can hardly believe that, since you know not what\n",
            "you speak. But, if ever the duke return, as our\n",
            "prayers are he may, let me desire you to make your\n",
            "answer before him. If it be honest you have spoke,\n",
            "you have spoke, I pray you to maintain it: I pray\n",
            "---------------\n",
            "\n",
            "If you have been so too long about me?\n",
            "\n",
            "Nurse:\n",
            "You say, sir, can tell me think, as I know, honest woman,--\n",
            "\n",
            "JULIET:\n",
            "By'Tis almost to me that I beseech you,\n",
            "As one I do the loss of.\n",
            "\n",
            "Nurse:\n",
            "An honour! were not\n",
            "\n",
            "LADY CAPULET:\n",
            "Evermore weeping for your cousin's death?\n",
            "What say you my father?\n",
            "What, wilt thou wash him from his grave with tears?\n",
            "An if thou couldst, thou couldst not make him live;\n",
            "Therefore, have done: some grief shows much of love;\n",
            "But much of grief shows still some want of wit.\n",
            "\n",
            "JULIET:\n",
            "Yet let me weep for such a feeling loss.\n",
            "\n",
            "LADY CAPULET:\n",
            "So shall you feel the loss, but not the friend\n",
            "Which you weep for.\n",
            "\n",
            "JULIET:\n",
            "Feeling so the loss,\n",
            "Cannot choose but ever weep the friend.\n",
            "\n",
            "LADY CAPULET:\n",
            "Well, girl, thou weep'st not so much for his death,\n",
            "As that the villain lives which slaughter'd him.\n",
            "\n",
            "JULIET:\n",
            "What villain madam?\n",
            "\n",
            "LADY CAPULET:\n",
            "That same villain, Romeo.\n",
            "\n",
            "JULIET:\n",
            "\n",
            "LADY CAPULET:\n",
            "That is, because the traitor murderer lives.\n",
            "\n",
            "JULIET:\n",
            "Ay, madam;\n",
            "And yet I might venge my cousin's death!\n",
            "\n",
            "LADY CAPULET:\n",
            "We will have vengeance for it, fear thou not:\n",
            "Then weep no more. I'll send to one in Mantua,\n",
            "Where that same banish'd runagate doth live,\n",
            "Shall give him such an unaccustom'd dram,\n",
            "That he shall soon keep Tybalt company:\n",
            "And then, I hope, thou wilt be satisfied.\n",
            "\n",
            "JULIET:\n",
            "Indeed, I never shall be satisfied\n",
            "With Romeo, till I behold him--dead--\n",
            "Is my poor heart for a kinsman vex'd.\n",
            "Madam, if you could find out but a man\n",
            "To bear a poison, I would temper it;\n",
            "That Romeo should, upon receipt thereof,\n",
            "Soon sleep in quiet. O, how my heart abhors\n",
            "To hear him named, and cannot come to him.\n",
            "To\n",
            "---------------\n",
            "\n",
            "The slave, stand upon me.\n",
            "\n",
            "ANTIGONUS:\n",
            "To keep her ourother tell:\n",
            "They are abused and by some ill place, not visit her:\n",
            "She's otherwise,\n",
            "I'll keep my stables where\n",
            "I lodge my wife; I'll go in couples with her no farther trust her;\n",
            "For every inch of woman in the world,\n",
            "Ay, every dram of woman's flesh is false, If she be.\n",
            "\n",
            "LEONTES:\n",
            "Hold your peaces.\n",
            "\n",
            "First Lord:\n",
            "Good my lord,--\n",
            "\n",
            "ANTIGONUS:\n",
            "It is for you we speak, not for ourselves:\n",
            "You are abused and by some putter-on\n",
            "That will be damn'd for't; would I knew the villain,\n",
            "I would land-damn him. Be she honour-flaw'd,\n",
            "I have three daughters; the eldest is eleven\n",
            "The second and the third, nine, nine, and some five;\n",
            "If this prove true, they'll pay for't:\n",
            "by mine honour,\n",
            "I'll geld 'em all; fourteen they shall not see,\n",
            "To bring false generations: they are co-heirs;\n",
            "And I had rather glib myself than they\n",
            "Should not produce fair issue.\n",
            "\n",
            "LEONTES:\n",
            "Cease; no more.\n",
            "You smell this business with a sense as cold\n",
            "As is a dead man's nose: but I do see't and feel't\n",
            "As you feel doing thus; and see withal\n",
            "The instruments that feel.\n",
            "\n",
            "ANTIGONUS:\n",
            "If it be so,\n",
            "We need no grave to bury honesty:\n",
            "There's not a grain of it the face to sweeten\n",
            "Of the whole dungy earth.\n",
            "\n",
            "LEONTES:\n",
            "What! lack I credit?\n",
            "\n",
            "First Lord:\n",
            "I had rather you did lack than I, my lord,\n",
            "Upon this ground; and more it would content me\n",
            "To have her honour true than your suspicion,\n",
            "Be blamed for't how you might.\n",
            "\n",
            "LEONTES:\n",
            "Why, what need we\n",
            "Commune with you of this, but rather follow\n",
            "Our forceful instigation? Our prerogative\n",
            "Calls not your counsels, but our natural goodness\n",
            "Imparts this; which if you, or stupefied\n",
            "Or seeming so in skill, cannot or will not\n",
            "Relish a truth like\n",
            "---------------\n",
            "\n",
            "I could make in that, they say,\n",
            "Though in a deal of content to be\n",
            "That knows what is listen'd more\n",
            "Than they whom youth and ease have taught to glose;\n",
            "More are men's ends mark'd than their lives before:\n",
            "The setting sun, and music at the close,\n",
            "As the last taste of sweets, is sweetest last,\n",
            "Writ in remembrance more than things long past:\n",
            "Though Richard my life's counsel would not hear,\n",
            "My death's sad tale may yet undeaf his ear.\n",
            "\n",
            "DUKE OF YORK:\n",
            "No; it is stopp'd with other flattering sounds,\n",
            "As praises, of whose taste the wise are fond,\n",
            "Lascivious metres, to whose venom sound\n",
            "The open ear of youth doth always listen;\n",
            "Report of fashions in proud Italy,\n",
            "Whose manners still our tardy apish nation\n",
            "Limps after in base imitation.\n",
            "Where doth the world thrust forth a vanity--\n",
            "So it be new, there's no respect how vile--\n",
            "That is not quickly buzzed into his ears?\n",
            "Then all too late comes counsel to be heard,\n",
            "Where will doth mutiny with wit's regard.\n",
            "Direct not him whose way himself will choose:\n",
            "'Tis breath thou lack'st, and that breath wilt thou lose.\n",
            "\n",
            "JOHN OF GAUNT:\n",
            "Methinks I am a prophet new inspired\n",
            "And thus expiring do foretell of him:\n",
            "His rash fierce blaze of riot cannot last,\n",
            "For violent fires soon burn out themselves;\n",
            "Small showers last long, but sudden storms are short;\n",
            "He tires betimes that spurs too fast betimes;\n",
            "With eager feeding food doth choke the feeder:\n",
            "Light vanity, insatiate cormorant,\n",
            "Consuming means, soon preys upon itself.\n",
            "This royal throne of kings, this scepter'd isle,\n",
            "This earth of majesty, this seat of Mars,\n",
            "This other Eden, demi-paradise,\n",
            "This fortress built by Nature for herself\n",
            "Against infection and the hand of war,\n",
            "This happy breed of war, this little world,\n",
            "This precious stone set in the silver sea,\n",
            "Which serves it in the hand of a wall,\n",
            "Or as a moat defensive to a house,\n",
            "Against the envy of less happier lands,\n",
            "This blessed plot, this realm, this England, this teeming womb of royal kings,\n",
            "Fear'd by their breed and famous\n",
            "---------------\n",
            "\n",
            "LEONTES:\n",
            "Once more, too much.\n",
            "\n",
            "CAMILLO:\n",
            "His business, no more of your highness,\n",
            "Than to me, as clear\n",
            "Do up.\n",
            "\n",
            "LEONTES:\n",
            "It is; thou hast advised.\n",
            "\n",
            "CAMILLO:\n",
            "I will seem to do't,\n",
            "Of it were I in honour.\n",
            "\n",
            "LEONTES:\n",
            "Go then, Mamillius; thou'rt an honest man.\n",
            "Camillo, this great sir will yet stay longer.\n",
            "\n",
            "CAMILLO:\n",
            "You had much ado to make his anchor hold:\n",
            "When you cast out, it still came home.\n",
            "\n",
            "LEONTES:\n",
            "Didst note it?\n",
            "\n",
            "CAMILLO:\n",
            "He would not stay at your petitions: made\n",
            "His business more material.\n",
            "\n",
            "LEONTES:\n",
            "Didst perceive it?\n",
            "They're here with me already, whispering, rounding\n",
            "'Sicilia is a so-forth:' 'tis far gone,\n",
            "When I shall gust it last. How came't, Camillo,\n",
            "That he did stay?\n",
            "\n",
            "CAMILLO:\n",
            "At the good queen's entreaty.\n",
            "\n",
            "LEONTES:\n",
            "At the queen's be't: 'good' should be pertinent\n",
            "But, so it is not. Was this taken\n",
            "By any understanding pate but thine?\n",
            "For thy conceit is soaking, will draw in\n",
            "More than the common blocks: not noted, is't,\n",
            "But of the finer natures? by some severals\n",
            "Of head-piece extraordinary? lower messes\n",
            "Perchance are to this business purblind? say.\n",
            "\n",
            "CAMILLO:\n",
            "Business, my lord! I think most understand\n",
            "Bohemia stays here longer.\n",
            "\n",
            "LEONTES:\n",
            "Ha!\n",
            "\n",
            "CAMILLO:\n",
            "Stays here longer.\n",
            "\n",
            "LEONTES:\n",
            "Ay, but why?\n",
            "\n",
            "CAMILLO:\n",
            "To satisfy your highness and the entreaties\n",
            "Of our most gracious mistress.\n",
            "\n",
            "LEONTES:\n",
            "Satisfy!\n",
            "The entreaties of your mistress! satisfy!\n",
            "Let that suffice. I have trusted thee, Camillo,\n",
            "With all the nearest things to my heart, as well\n",
            "My chamber-councils, wherein, priest-like, thou\n",
            "Hast cleansed my bosom, I from thee departed\n",
            "Thy penitent reform'd: but we have been\n",
            "De\n",
            "---------------\n",
            "\n",
            "Not weak-deserving son, and take from Time\n",
            "To draw out from your way\n",
            "His charters and his customary rights;\n",
            "Let not to-morrow then ensue to-day;\n",
            "Be not thyself; for how art thou a king\n",
            "But by fair sequence and succession?\n",
            "Now, afore God--God forbid I say true!--\n",
            "If you do wrongfully seize Hereford's rights,\n",
            "Call in the letters patent that he hath\n",
            "By his attorneys-general to sue\n",
            "His livery, and deny his offer'd homage,\n",
            "You pluck a thousand dangers on your head,\n",
            "You pluck a thousand dangers on your head,\n",
            "You lose a thousand well-disposed hearts\n",
            "And prick my tender patience, to those thoughts\n",
            "Which honour and allegiance cannot think.\n",
            "\n",
            "KING RICHARD II:\n",
            "Think what you will, we seize into our hands\n",
            "His plate, his money and his money and his lands.\n",
            "\n",
            "DUKE OF YORK:\n",
            "I'll not be by the while: my liege, farewell:\n",
            "What will ensue hereof, there's none can tell;\n",
            "But by bad courses may be understood\n",
            "That their events can never fall out good.\n",
            "\n",
            "KING RICHARD II:\n",
            "Go, Bushy, to the Earl of Wiltshire straight:\n",
            "Bid him repair to us to Ely House\n",
            "To see this business. To-morrow next\n",
            "We will for Ireland; and 'tis time, I trow:\n",
            "And we create, in absence of ourself,\n",
            "Our uncle York lord governor of England;\n",
            "For he is just and always loved us well.\n",
            "Come on, our queen: to-morrow must we part;\n",
            "Be merry, for our time of stay is short\n",
            "\n",
            "NORTHUMBERLAND:\n",
            "Well, lords, the Duke of Lancaster is dead.\n",
            "\n",
            "LORD ROSS:\n",
            "And living too; for now his son is duke.\n",
            "\n",
            "LORD WILLOUGHBY:\n",
            "Barely in title, not in revenue.\n",
            "\n",
            "NORTHUMBERLAND:\n",
            "Richly in both, if justice had her right.\n",
            "\n",
            "LORD ROSS:\n",
            "My heart is great; but it must break with silence,\n",
            "Ere't be disburden'd with a liberal tongue.\n",
            "\n",
            "NORTHUMBERLAND:\n",
            "Nay, speak thy mind; and let him ne'er speak more\n",
            "That speaks thy words again to do thee harm!\n",
            "\n",
            "\n",
            "---------------\n"
          ]
        }
      ],
      "source": [
        "# encode the beginning of the prompt\n",
        "if start.startswith('FILE:'):\n",
        "    with open(start[5:], 'r', encoding='utf-8') as f:\n",
        "        start = f.read()\n",
        "start_ids = encode(start)\n",
        "x = (torch.tensor(start_ids, dtype=torch.long, device=device)[None, ...])\n",
        "\n",
        "# run generation\n",
        "with torch.no_grad():\n",
        "    with ctx:\n",
        "        for k in range(num_samples):\n",
        "            y = model.generate(x, max_new_tokens, temperature=temperature, top_k=top_k)\n",
        "            print(decode(y[0].tolist()))\n",
        "            print('---------------')"
      ]
    }
  ],
  "metadata": {
    "accelerator": "GPU",
    "colab": {
      "collapsed_sections": [
        "eo_QP1ITFfX2"
      ],
      "gpuType": "A100",
      "provenance": [],
      "toc_visible": true
    },
    "kernelspec": {
      "display_name": "Python 3",
      "name": "python3"
    },
    "language_info": {
      "name": "python"
    }
  },
  "nbformat": 4,
  "nbformat_minor": 0
}
